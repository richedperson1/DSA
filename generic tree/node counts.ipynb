{
 "cells": [
  {
   "cell_type": "code",
   "execution_count": 1,
   "metadata": {},
   "outputs": [],
   "source": [
    "from genericTree import *"
   ]
  },
  {
   "cell_type": "code",
   "execution_count": 17,
   "metadata": {},
   "outputs": [],
   "source": [
    "nodeEle = [2,3,4,5,6,-1,7,9,15,-1,22,-1,-1,-1,25,28,30,-1,30]\n",
    "treeHead = createTree().createTreeFromInput(nodeEle)\n"
   ]
  },
  {
   "cell_type": "code",
   "execution_count": 13,
   "metadata": {},
   "outputs": [
    {
     "name": "stdout",
     "output_type": "stream",
     "text": [
      "2 : 3 , 4 , 5 , 6\n",
      "3 : 7 , 9 , 15\n",
      "7 : 25 , 28 , 30\n",
      "25 : \n",
      "28 : \n",
      "30 : \n",
      "9 : 30\n",
      "30 : \n",
      "15 : \n",
      "4 : 22\n",
      "22 : \n",
      "5 : \n",
      "6 : \n"
     ]
    }
   ],
   "source": [
    "tree.printGTree(treeHead)"
   ]
  },
  {
   "cell_type": "markdown",
   "metadata": {},
   "source": [
    "## Method 1"
   ]
  },
  {
   "cell_type": "code",
   "execution_count": 14,
   "metadata": {},
   "outputs": [
    {
     "data": {
      "text/plain": [
       "13"
      ]
     },
     "execution_count": 14,
     "metadata": {},
     "output_type": "execute_result"
    }
   ],
   "source": [
    "def countNumberOfNode(rootNode):\n",
    "    if rootNode.nodes==[]:\n",
    "        return 1\n",
    "    first = countNumberOfNode(rootNode.nodes[0])\n",
    "    for j in range(1,len(rootNode.nodes)):\n",
    "        first+=countNumberOfNode(rootNode.nodes[j])\n",
    "    return first+1\n",
    "\n",
    "\n",
    "countNumberOfNode(treeHead)"
   ]
  },
  {
   "cell_type": "markdown",
   "metadata": {},
   "source": [
    "## Method 2"
   ]
  },
  {
   "cell_type": "code",
   "execution_count": 20,
   "metadata": {},
   "outputs": [
    {
     "data": {
      "text/plain": [
       "13"
      ]
     },
     "execution_count": 20,
     "metadata": {},
     "output_type": "execute_result"
    }
   ],
   "source": [
    "def countNumberOfNode(rootNode):\n",
    "    if rootNode==None:\n",
    "        return 0\n",
    "    first = 1\n",
    "    for j in range(len(rootNode.nodes)):\n",
    "        first+=countNumberOfNode(rootNode.nodes[j])\n",
    "    return first\n",
    "\n",
    "countNumberOfNode(treeHead)"
   ]
  }
 ],
 "metadata": {
  "kernelspec": {
   "display_name": "Python 3.9.6 64-bit",
   "language": "python",
   "name": "python3"
  },
  "language_info": {
   "codemirror_mode": {
    "name": "ipython",
    "version": 3
   },
   "file_extension": ".py",
   "mimetype": "text/x-python",
   "name": "python",
   "nbconvert_exporter": "python",
   "pygments_lexer": "ipython3",
   "version": "3.9.6"
  },
  "orig_nbformat": 4,
  "vscode": {
   "interpreter": {
    "hash": "9ed01bf3e969b83a52ea704bdfcdb9489080434f4a73e48ff34431a518d0aca8"
   }
  }
 },
 "nbformat": 4,
 "nbformat_minor": 2
}
