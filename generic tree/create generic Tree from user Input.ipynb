{
 "cells": [
  {
   "cell_type": "code",
   "execution_count": 1,
   "metadata": {},
   "outputs": [],
   "source": [
    "from genericTree import tree\n",
    "import queue"
   ]
  },
  {
   "cell_type": "code",
   "execution_count": 8,
   "metadata": {},
   "outputs": [],
   "source": [
    "lst = [2,3,4,5,6,-1,7,9,15,-1,22]\n",
    "ind = 0\n",
    "rootNode = tree(lst[ind])\n",
    "pastNode = queue.Queue()\n",
    "pastNode.put(rootNode)\n",
    "ind+=1\n",
    "while ind< len(lst):\n",
    "    num = lst[ind]\n",
    "    curr = pastNode.get()\n",
    "    while ind < len(lst) and lst[ind]!=-1:\n",
    "        new = tree(lst[ind])\n",
    "        ind+=1\n",
    "        curr.nodes.append(new)\n",
    "    ind+=1\n"
   ]
  }
 ],
 "metadata": {
  "kernelspec": {
   "display_name": "Python 3.9.6 64-bit",
   "language": "python",
   "name": "python3"
  },
  "language_info": {
   "codemirror_mode": {
    "name": "ipython",
    "version": 3
   },
   "file_extension": ".py",
   "mimetype": "text/x-python",
   "name": "python",
   "nbconvert_exporter": "python",
   "pygments_lexer": "ipython3",
   "version": "3.9.6 (tags/v3.9.6:db3ff76, Jun 28 2021, 15:26:21) [MSC v.1929 64 bit (AMD64)]"
  },
  "orig_nbformat": 4,
  "vscode": {
   "interpreter": {
    "hash": "9ed01bf3e969b83a52ea704bdfcdb9489080434f4a73e48ff34431a518d0aca8"
   }
  }
 },
 "nbformat": 4,
 "nbformat_minor": 2
}
