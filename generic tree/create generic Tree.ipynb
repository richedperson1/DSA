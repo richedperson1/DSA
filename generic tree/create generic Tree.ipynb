{
 "cells": [
  {
   "cell_type": "code",
   "execution_count": 1,
   "metadata": {},
   "outputs": [],
   "source": [
    "from genericTree import tree"
   ]
  },
  {
   "cell_type": "code",
   "execution_count": 2,
   "metadata": {},
   "outputs": [],
   "source": [
    "n0= tree(0)\n",
    "n1 = tree(1)\n",
    "n2 = tree(2)\n",
    "n3 = tree(3)\n",
    "n4 = tree(4)\n",
    "n5 = tree(5)\n",
    "n6 = tree(6)\n",
    "n7 = tree(7)\n",
    "n8 = tree(8)\n",
    "n9 = tree(9)\n",
    "\n",
    "n2.nodes.append(n7)\n",
    "n2.nodes.append(n4)\n",
    "n2.nodes.append(n3)\n",
    "n2.nodes.append(n9)\n",
    "n7.nodes.append(n0)\n",
    "n7.nodes.append(n1)\n",
    "n4.nodes.append(n5)\n",
    "n4.nodes.append(n6)\n",
    "n4.nodes.append(n8)"
   ]
  },
  {
   "cell_type": "code",
   "execution_count": 3,
   "metadata": {},
   "outputs": [
    {
     "name": "stdout",
     "output_type": "stream",
     "text": [
      "2 : 7 , 4 , 3 , 9\n",
      "7 : 0 , 1\n",
      "0 : \n",
      "1 : \n",
      "4 : 5 , 6 , 8\n",
      "5 : \n",
      "6 : \n",
      "8 : \n",
      "3 : \n",
      "9 : \n"
     ]
    }
   ],
   "source": [
    "tree.printGTree(n2)"
   ]
  },
  {
   "cell_type": "code",
   "execution_count": null,
   "metadata": {},
   "outputs": [],
   "source": []
  },
  {
   "cell_type": "code",
   "execution_count": 6,
   "metadata": {},
   "outputs": [
    {
     "name": "stdout",
     "output_type": "stream",
     "text": [
      "2 : 7 , 4 , 3 , 9 , \n",
      "--------------------\n",
      "7 : 0 , 1 , \n",
      "----------\n",
      "0  : \n",
      "----\n",
      "1  : \n",
      "----\n",
      "4 : 5 , 6 , 8 , \n",
      "---------------\n",
      "5  : \n",
      "----\n",
      "6  : \n",
      "----\n",
      "8  : \n",
      "----\n",
      "3  : \n",
      "----\n",
      "9  : \n",
      "----\n"
     ]
    }
   ],
   "source": [
    "def printTree(root):\n",
    "    if root.nodes==[]:\n",
    "        print(root.data ,\" : \")\n",
    "        print(\"----\")\n",
    "        return\n",
    "    print(root.data,end=\" : \")\n",
    "    for i in range(len(root.nodes)):\n",
    "        if i==0 and root.nodes:\n",
    "            for j in root.nodes:\n",
    "                print(j.data,end=\" , \")\n",
    "\n",
    "            print()\n",
    "            print(\"-----\"*len(root.nodes))\n",
    "        printTree(root.nodes[i])\n",
    "\n",
    "printTree(n2)"
   ]
  },
  {
   "cell_type": "code",
   "execution_count": 11,
   "metadata": {},
   "outputs": [
    {
     "name": "stdout",
     "output_type": "stream",
     "text": [
      "2 : 7 , 4 , 3 , 9\n",
      "7 : 0 , 1\n",
      "0 : \n",
      "1 : \n",
      "4 : 5 , 6 , 8\n",
      "5 : \n",
      "6 : \n",
      "8 : \n",
      "3 : \n",
      "9 : \n"
     ]
    }
   ],
   "source": [
    "def printGTree(root):\n",
    "    # This is not base case but it's edge case where if root is None when input is given then don't error\n",
    "    if root==None:\n",
    "        return\n",
    "\n",
    "    print(root.data,end=\" : \")\n",
    "    for idx,child in enumerate(root.nodes):\n",
    "        if idx+1==len(root.nodes):\n",
    "            print(child.data,end = \"\")\n",
    "        else:\n",
    "            print(child.data,end=\" , \")\n",
    "    print()\n",
    "    for i in range(len(root.nodes)):\n",
    "        printGTree(root.nodes[i])\n",
    "\n",
    "printGTree(n2)"
   ]
  }
 ],
 "metadata": {
  "kernelspec": {
   "display_name": "Python 3.9.6 64-bit",
   "language": "python",
   "name": "python3"
  },
  "language_info": {
   "codemirror_mode": {
    "name": "ipython",
    "version": 3
   },
   "file_extension": ".py",
   "mimetype": "text/x-python",
   "name": "python",
   "nbconvert_exporter": "python",
   "pygments_lexer": "ipython3",
   "version": "3.9.6"
  },
  "orig_nbformat": 4,
  "vscode": {
   "interpreter": {
    "hash": "9ed01bf3e969b83a52ea704bdfcdb9489080434f4a73e48ff34431a518d0aca8"
   }
  }
 },
 "nbformat": 4,
 "nbformat_minor": 2
}
