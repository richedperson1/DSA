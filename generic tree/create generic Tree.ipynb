{
 "cells": [
  {
   "cell_type": "code",
   "execution_count": 3,
   "metadata": {},
   "outputs": [],
   "source": [
    "from genericTree import tree"
   ]
  },
  {
   "cell_type": "code",
   "execution_count": 17,
   "metadata": {},
   "outputs": [],
   "source": [
    "n0= tree(0)\n",
    "n1 = tree(1)\n",
    "n2 = tree(2)\n",
    "n3 = tree(3)\n",
    "n4 = tree(4)\n",
    "n5 = tree(5)\n",
    "n6 = tree(6)\n",
    "n7 = tree(7)\n",
    "n8 = tree(8)\n",
    "n9 = tree(9)\n",
    "\n",
    "n2.nodes.append(n7)\n",
    "n2.nodes.append(n4)\n",
    "n2.nodes.append(n3)\n",
    "n2.nodes.append(n9)\n",
    "n7.nodes.append(n0)\n",
    "n7.nodes.append(n1)\n",
    "n4.nodes.append(n5)\n",
    "n4.nodes.append(n6)\n",
    "n4.nodes.append(n8)"
   ]
  },
  {
   "cell_type": "code",
   "execution_count": 24,
   "metadata": {},
   "outputs": [
    {
     "name": "stdout",
     "output_type": "stream",
     "text": [
      "2 ---> 7 ---> 0 ---> 1 ---> 4 ---> 5 ---> 6 ---> 8 ---> 3 ---> 9 ---> "
     ]
    }
   ],
   "source": [
    "def printTree(root):\n",
    "    if root.nodes==[]:\n",
    "        print(root.data,end=\" ---> \")\n",
    "        return \n",
    "    i = 0\n",
    "    print(root.data,end=\" ---> \")\n",
    "    for i in range(len(root.nodes)):\n",
    "        printTree(root.nodes[i])\n",
    "\n",
    "printTree(n2)"
   ]
  }
 ],
 "metadata": {
  "kernelspec": {
   "display_name": "Python 3.9.6 64-bit",
   "language": "python",
   "name": "python3"
  },
  "language_info": {
   "codemirror_mode": {
    "name": "ipython",
    "version": 3
   },
   "file_extension": ".py",
   "mimetype": "text/x-python",
   "name": "python",
   "nbconvert_exporter": "python",
   "pygments_lexer": "ipython3",
   "version": "3.9.6"
  },
  "orig_nbformat": 4,
  "vscode": {
   "interpreter": {
    "hash": "9ed01bf3e969b83a52ea704bdfcdb9489080434f4a73e48ff34431a518d0aca8"
   }
  }
 },
 "nbformat": 4,
 "nbformat_minor": 2
}
