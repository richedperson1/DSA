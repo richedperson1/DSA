{
 "cells": [
  {
   "cell_type": "code",
   "execution_count": 1,
   "metadata": {},
   "outputs": [],
   "source": [
    "from genericTree import *"
   ]
  },
  {
   "cell_type": "code",
   "execution_count": 2,
   "metadata": {},
   "outputs": [],
   "source": [
    "nodeEle = [2,3,4,5,6,-1,7,9,15,-1,22,-1,-1,-1,25,28,30,-1,30]\n",
    "treeHead = createTree().createTreeFromInput(nodeEle)\n"
   ]
  },
  {
   "cell_type": "code",
   "execution_count": 3,
   "metadata": {},
   "outputs": [
    {
     "name": "stdout",
     "output_type": "stream",
     "text": [
      "2 : 3 , 4 , 5 , 6\n",
      "3 : 7 , 9 , 15\n",
      "7 : 25 , 28 , 30\n",
      "25 : \n",
      "28 : \n",
      "30 : \n",
      "9 : 30\n",
      "30 : \n",
      "15 : \n",
      "4 : 22\n",
      "22 : \n",
      "5 : \n",
      "6 : \n"
     ]
    }
   ],
   "source": [
    "tree.printGTree(treeHead)"
   ]
  },
  {
   "cell_type": "markdown",
   "metadata": {},
   "source": [
    "## Method 1"
   ]
  },
  {
   "cell_type": "code",
   "execution_count": 4,
   "metadata": {},
   "outputs": [
    {
     "data": {
      "text/plain": [
       "13"
      ]
     },
     "execution_count": 4,
     "metadata": {},
     "output_type": "execute_result"
    }
   ],
   "source": [
    "def countNumberOfNode(rootNode):\n",
    "    if rootNode.nodes==[]:\n",
    "        return 1\n",
    "    first = countNumberOfNode(rootNode.nodes[0])\n",
    "    for j in range(1,len(rootNode.nodes)):\n",
    "        first+=countNumberOfNode(rootNode.nodes[j])\n",
    "    return first+1\n",
    "\n",
    "\n",
    "countNumberOfNode(treeHead)"
   ]
  },
  {
   "cell_type": "markdown",
   "metadata": {},
   "source": [
    "## Method 2"
   ]
  },
  {
   "cell_type": "code",
   "execution_count": 5,
   "metadata": {},
   "outputs": [
    {
     "data": {
      "text/plain": [
       "13"
      ]
     },
     "execution_count": 5,
     "metadata": {},
     "output_type": "execute_result"
    }
   ],
   "source": [
    "def countNumberOfNode(rootNode):\n",
    "    if rootNode==None:\n",
    "        return 0\n",
    "    first = 1\n",
    "    for j in range(len(rootNode.nodes)):\n",
    "        first+=countNumberOfNode(rootNode.nodes[j])\n",
    "    return first\n",
    "\n",
    "countNumberOfNode(treeHead)"
   ]
  },
  {
   "cell_type": "markdown",
   "metadata": {},
   "source": [
    "# Sum of all nodes"
   ]
  },
  {
   "cell_type": "code",
   "execution_count": 6,
   "metadata": {},
   "outputs": [
    {
     "name": "stdout",
     "output_type": "stream",
     "text": [
      "2 : 3 , 4 , 5 , 6\n",
      "3 : 7 , 9 , 15\n",
      "7 : \n",
      "9 : \n",
      "15 : \n",
      "4 : 22 , 46\n",
      "22 : \n",
      "46 : \n",
      "5 : \n",
      "6 : \n"
     ]
    }
   ],
   "source": [
    "nodeEle = [2,3,4,5,6,-1,7,9,15,-1,22,46]\n",
    "treeHead = createTree().createTreeFromInput(nodeEle)\n",
    "tree.printGTree(treeHead)"
   ]
  },
  {
   "cell_type": "code",
   "execution_count": 7,
   "metadata": {},
   "outputs": [
    {
     "data": {
      "text/plain": [
       "119"
      ]
     },
     "execution_count": 7,
     "metadata": {},
     "output_type": "execute_result"
    }
   ],
   "source": [
    "sum(nodeEle)+nodeEle.count(-1)"
   ]
  },
  {
   "cell_type": "code",
   "execution_count": 8,
   "metadata": {},
   "outputs": [
    {
     "data": {
      "text/plain": [
       "119"
      ]
     },
     "execution_count": 8,
     "metadata": {},
     "output_type": "execute_result"
    }
   ],
   "source": [
    "def nodeSum(nodes):\n",
    "    if nodes==None:\n",
    "        return 0\n",
    "    count = nodes.data\n",
    "    for child in nodes.nodes:\n",
    "        count+=nodeSum(child)\n",
    "    return count\n",
    "\n",
    "nodeSum(treeHead)"
   ]
  },
  {
   "cell_type": "markdown",
   "metadata": {},
   "source": [
    "# Largest number in Tree"
   ]
  },
  {
   "cell_type": "code",
   "execution_count": 12,
   "metadata": {},
   "outputs": [
    {
     "data": {
      "text/plain": [
       "0"
      ]
     },
     "execution_count": 12,
     "metadata": {},
     "output_type": "execute_result"
    }
   ],
   "source": [
    "def treeMaxi(roots,maxi):\n",
    "    maxi = max(maxi,roots.data)\n",
    "    for child in roots.nodes:\n",
    "        local = treeMaxi(child,maxi)\n",
    "        maxi = max(local,maxi)\n",
    "    return maxi\n",
    "\n",
    "treeMaxi(treeHead,0)"
   ]
  }
 ],
 "metadata": {
  "kernelspec": {
   "display_name": "Python 3.9.6 64-bit",
   "language": "python",
   "name": "python3"
  },
  "language_info": {
   "codemirror_mode": {
    "name": "ipython",
    "version": 3
   },
   "file_extension": ".py",
   "mimetype": "text/x-python",
   "name": "python",
   "nbconvert_exporter": "python",
   "pygments_lexer": "ipython3",
   "version": "3.9.6"
  },
  "orig_nbformat": 4,
  "vscode": {
   "interpreter": {
    "hash": "9ed01bf3e969b83a52ea704bdfcdb9489080434f4a73e48ff34431a518d0aca8"
   }
  }
 },
 "nbformat": 4,
 "nbformat_minor": 2
}
