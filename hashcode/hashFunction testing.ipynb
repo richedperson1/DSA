{
 "cells": [
  {
   "cell_type": "code",
   "execution_count": 1,
   "metadata": {},
   "outputs": [],
   "source": [
    "from hashFunction import *"
   ]
  },
  {
   "cell_type": "code",
   "execution_count": 51,
   "metadata": {},
   "outputs": [
    {
     "data": {
      "text/plain": [
       "[<hashFunction.mapNode at 0x17734d5bd60>,\n",
       " <hashFunction.mapNode at 0x17734b307f0>,\n",
       " <hashFunction.mapNode at 0x17734d5be20>,\n",
       " <hashFunction.mapNode at 0x17734d5bf40>,\n",
       " None,\n",
       " None,\n",
       " None,\n",
       " <hashFunction.mapNode at 0x17734d5bca0>,\n",
       " <hashFunction.mapNode at 0x17734d5bdc0>,\n",
       " <hashFunction.mapNode at 0x17734d5bee0>,\n",
       " None,\n",
       " <hashFunction.mapNode at 0x17734b30bb0>,\n",
       " <hashFunction.mapNode at 0x17734b30790>,\n",
       " <hashFunction.mapNode at 0x17735189100>,\n",
       " <hashFunction.mapNode at 0x17735189910>,\n",
       " <hashFunction.mapNode at 0x17734b30280>,\n",
       " None,\n",
       " None,\n",
       " None,\n",
       " <hashFunction.mapNode at 0x17734d5be80>]"
      ]
     },
     "execution_count": 51,
     "metadata": {},
     "output_type": "execute_result"
    }
   ],
   "source": [
    "\n",
    "rutvikMap = map()\n",
    "rutvikMap.insertData(\"Rutvik\", \"I know about it\")\n",
    "rutvikMap.insertData(\"Rutvik\", \"Jaiswal\")\n",
    "rutvikMap.insertData(\"Rj\", \"harman\")\n",
    "rutvikMap.insertData(\"gokul\", \"huasen\")\n",
    "rutvikMap.insertData(\"prasad\", \"wipro\")\n",
    "rutvikMap.insertData(\"ashish\", \"siemen\")\n",
    "rutvikMap.insertData(\"gokul1\", \"huasen\")\n",
    "rutvikMap.insertData(\"prasad2\", \"wipro\")\n",
    "rutvikMap.insertData(\"ashish3\", \"siemen\")\n",
    "rutvikMap.insertData(\"gokul5\", \"huasen\")\n",
    "rutvikMap.insertData(\"gokul7\", \"huasen\")\n",
    "rutvikMap.insertData(\"gokul9\", \"huasen\")\n",
    "rutvikMap.insertData(\"prasad5\", \"wipro\")\n",
    "rutvikMap.insertData(\"prasad7\", \"wipro\")\n",
    "rutvikMap.insertData(\"prasad9\", \"wipro\")\n",
    "rutvikMap.insertData(\"ashish5\", \"siemen\")\n",
    "rutvikMap.insertData(\"ashish7\", \"siemen\")\n",
    "rutvikMap.insertData(\"ashish9\", \"siemen\")\n",
    "rutvikMap.insertData(\"gokul15\", \"huasen\")\n",
    "rutvikMap.insertData(\"gokul17\", \"huasen\")\n",
    "rutvikMap.insertData(\"gokul19\", \"huasen\")\n",
    "rutvikMap.insertData(\"prasad52\", \"wipro\")\n",
    "rutvikMap.insertData(\"prasad72\", \"wipro\")\n",
    "rutvikMap.insertData(\"prasad92\", \"wipro\")\n",
    "rutvikMap.insertData(\"ashish53\", \"siemen\")\n",
    "rutvikMap.insertData(\"ashish73\", \"siemen\")\n",
    "rutvikMap.insertData(\"ashish93\", \"siemen\")\n",
    "rutvikMap.buckets"
   ]
  },
  {
   "cell_type": "code",
   "execution_count": null,
   "metadata": {},
   "outputs": [],
   "source": []
  },
  {
   "cell_type": "code",
   "execution_count": null,
   "metadata": {},
   "outputs": [],
   "source": []
  }
 ],
 "metadata": {
  "kernelspec": {
   "display_name": "Python 3.9.6 64-bit",
   "language": "python",
   "name": "python3"
  },
  "language_info": {
   "codemirror_mode": {
    "name": "ipython",
    "version": 3
   },
   "file_extension": ".py",
   "mimetype": "text/x-python",
   "name": "python",
   "nbconvert_exporter": "python",
   "pygments_lexer": "ipython3",
   "version": "3.9.6"
  },
  "orig_nbformat": 4,
  "vscode": {
   "interpreter": {
    "hash": "9ed01bf3e969b83a52ea704bdfcdb9489080434f4a73e48ff34431a518d0aca8"
   }
  }
 },
 "nbformat": 4,
 "nbformat_minor": 2
}
