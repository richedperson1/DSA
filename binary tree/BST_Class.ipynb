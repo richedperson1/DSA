{
 "cells": [
  {
   "cell_type": "code",
   "execution_count": 1,
   "metadata": {},
   "outputs": [],
   "source": [
    "from binary_tree import *"
   ]
  },
  {
   "cell_type": "code",
   "execution_count": 2,
   "metadata": {},
   "outputs": [],
   "source": [
    "treeElements = [4, 2, 8, 1, 3, 7, 10]\n",
    "\n",
    "tree = createTree().createTreeUsingList(treeElements)"
   ]
  },
  {
   "cell_type": "code",
   "execution_count": 71,
   "metadata": {},
   "outputs": [
    {
     "name": "stdout",
     "output_type": "stream",
     "text": [
      "----------------------------------------------------------------------------------------------------\n"
     ]
    }
   ],
   "source": [
    "class BST:\n",
    "    def __init__(self,rootNode = None):\n",
    "        self.rootNode = rootNode\n",
    "        self.numNode = 0\n",
    "\n",
    "    def printHelper(self,rootNode):\n",
    "        if rootNode==None:\n",
    "            \n",
    "            return \n",
    "        print(rootNode.data,end = \" :--> \")\n",
    "        if rootNode.left :\n",
    "            print(\"L :\",rootNode.left.data,\" \",end=\" \")\n",
    "        if rootNode.right:\n",
    "            print(\"R :\",rootNode.right.data,end=\"  \")\n",
    "        print()\n",
    "        self.printHelper(rootNode=rootNode.left)\n",
    "        self.printHelper(rootNode=rootNode.right)\n",
    "            \n",
    "    def printTree(self):\n",
    "        return self.printHelper(self.rootNode)\n",
    "\n",
    "    def isPresent(self,k):\n",
    "        if self.rootNode==None:\n",
    "            return -1\n",
    "        elif self.rootNode.data==k:\n",
    "            return self.rootNode\n",
    "        \n",
    "        elif self.rootNode.data>k:\n",
    "            return self.checkElementInTree(self.rootNode.left,k)\n",
    "        else:\n",
    "            return self.checkElementInTree(self.rootNode.right,k)\n",
    "\n",
    "    def checkElementInTree(self,rootNode,k):\n",
    "        if rootNode==None:\n",
    "            return -1\n",
    "        elif rootNode.data==k:\n",
    "            return rootNode\n",
    "\n",
    "        elif rootNode.data>k:\n",
    "            left = self.checkElementInTree(rootNode=rootNode.left,k=k)\n",
    "            return left\n",
    "        \n",
    "        else:\n",
    "            rgt = self.checkElementInTree(rootNode.right,k)\n",
    "            return rgt\n",
    "\n",
    "    def insertElements(self,ele):\n",
    "        self.numNode+=1\n",
    "        self.rootNode = self.insertHelper(self.rootNode,ele)\n",
    "\n",
    "    def insertHelper(self,rootNode,ele):\n",
    "        if rootNode==None:\n",
    "\n",
    "            return root(ele)\n",
    "\n",
    "        if rootNode.data>ele:\n",
    "            rootNode.left = self.insertHelper(rootNode.left,ele)\n",
    "            return rootNode\n",
    "        else:\n",
    "            rootNode.right = self.insertHelper(rootNode.right,ele)\n",
    "            return rootNode\n",
    "        \n",
    "    def deleteNode(self,data):\n",
    "        isDel,rootNode1 = self.deleteHelper(self.rootNode,data)\n",
    "        if isDel:\n",
    "            self.numNode -=1\n",
    "            self.rootNode  = rootNode1  \n",
    "        return isDel,rootNode1   \n",
    "\n",
    "    def deleteHelper(self,nodes,data):\n",
    "        if nodes==None:\n",
    "            return False,nodes\n",
    "        if nodes.data>data:\n",
    "            isDel,rootNode = self.deleteHelper(nodes.left,data)\n",
    "            nodes.left = rootNode\n",
    "            return isDel,nodes\n",
    "        if nodes.data<data:\n",
    "            isDel,rootNode = self.deleteHelper(nodes.right,data)\n",
    "            nodes.right = rootNode\n",
    "            return isDel, nodes\n",
    "        # When zero child present\n",
    "        print(\"--\"*50)\n",
    "        if nodes.left==None and nodes.right==None:\n",
    "            return True, None\n",
    "\n",
    "        # when nodes has right child\n",
    "        if nodes.right:\n",
    "            return True,nodes.right\n",
    "\n",
    "        # When nodes has left child\n",
    "        if nodes.left:\n",
    "            return True,nodes.left\n",
    "\n",
    "        # When nodes has 2 childs\n",
    "        # print(replacement)\n",
    "        # print(\"--\"*50)\n",
    "        if nodes.left and nodes.right:\n",
    "            replacement = self.min(nodes.right)\n",
    "            nodes.data = replacement\n",
    "            print(replacement)\n",
    "            isDel,newNodes = self.deleteHelper(nodes.right,replacement)\n",
    "            nodes.right = newNodes\n",
    "            return isDel,nodes\n",
    "    def min(self,repel):\n",
    "        if repel==None:\n",
    "            return 100000\n",
    "        if repel.left==None:\n",
    "            return repel.data\n",
    "        return self.min(repel.left)\n",
    "\n",
    "lst = [5,3,10,1,4,7,15,0,2,3.5,4.5]\n",
    "bstTree = createTree().createTreeUsingList(lst)\n",
    "duplicate = cloning().cloneWholeTree(bstTree)\n",
    "treeObj = BST(duplicate)\n",
    "Bool,tree = treeObj.deleteNode(1)\n",
    "# root.print_tree(tree)"
   ]
  },
  {
   "cell_type": "code",
   "execution_count": null,
   "metadata": {},
   "outputs": [],
   "source": []
  },
  {
   "cell_type": "code",
   "execution_count": 56,
   "metadata": {},
   "outputs": [
    {
     "name": "stdout",
     "output_type": "stream",
     "text": [
      "5 :  L :  3  R  10\n",
      "3 :  L :  1  R  4\n",
      "1 :  L :  0  R  2\n",
      "0 : \n",
      "2 : \n",
      "4 :  L :  3.5  R  4.5\n",
      "3.5 : \n",
      "4.5 : \n",
      "10 :  L :  7  R  15\n",
      "7 : \n",
      "15 : \n"
     ]
    }
   ],
   "source": [
    "root.print_tree(bstTree)"
   ]
  },
  {
   "cell_type": "code",
   "execution_count": 53,
   "metadata": {},
   "outputs": [
    {
     "name": "stdout",
     "output_type": "stream",
     "text": [
      "5 :  L :  4  R  10\n",
      "4 :  L :  3.5  R  4.5\n",
      "3.5 : \n",
      "4.5 : \n",
      "10 :  L :  7  R  15\n",
      "7 : \n",
      "15 : \n"
     ]
    }
   ],
   "source": [
    "root.print_tree(duplicate)"
   ]
  },
  {
   "cell_type": "code",
   "execution_count": 42,
   "metadata": {},
   "outputs": [
    {
     "name": "stdout",
     "output_type": "stream",
     "text": [
      "5 :  L :  4  R  10\n",
      "4 :  L :  3.5  R  4.5\n",
      "3.5 : \n",
      "4.5 : \n",
      "10 :  L :  7  R  15\n",
      "7 : \n",
      "15 : \n"
     ]
    }
   ],
   "source": [
    "root.print_tree(tree)"
   ]
  }
 ],
 "metadata": {
  "kernelspec": {
   "display_name": "Python 3.9.6 64-bit",
   "language": "python",
   "name": "python3"
  },
  "language_info": {
   "codemirror_mode": {
    "name": "ipython",
    "version": 3
   },
   "file_extension": ".py",
   "mimetype": "text/x-python",
   "name": "python",
   "nbconvert_exporter": "python",
   "pygments_lexer": "ipython3",
   "version": "3.9.6"
  },
  "orig_nbformat": 4,
  "vscode": {
   "interpreter": {
    "hash": "9ed01bf3e969b83a52ea704bdfcdb9489080434f4a73e48ff34431a518d0aca8"
   }
  }
 },
 "nbformat": 4,
 "nbformat_minor": 2
}
