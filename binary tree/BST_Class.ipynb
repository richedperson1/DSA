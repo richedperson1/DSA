{
 "cells": [
  {
   "cell_type": "code",
   "execution_count": 1,
   "metadata": {},
   "outputs": [],
   "source": [
    "from binary_tree import *"
   ]
  },
  {
   "cell_type": "code",
   "execution_count": 64,
   "metadata": {},
   "outputs": [],
   "source": [
    "treeElements = [4, 2, 8, 1, 3, 7, 10]\n",
    "\n",
    "tree = createTree().createTreeUsingList(treeElements)"
   ]
  },
  {
   "cell_type": "code",
   "execution_count": 78,
   "metadata": {},
   "outputs": [
    {
     "name": "stdout",
     "output_type": "stream",
     "text": [
      "80 :--> \n"
     ]
    }
   ],
   "source": [
    "class BST:\n",
    "    def __init__(self):\n",
    "        self.rootNode = None\n",
    "        self.numNode = 0\n",
    "\n",
    "    def printHelper(self,rootNode):\n",
    "        if rootNode==None:\n",
    "            \n",
    "            return \n",
    "        print(rootNode.data,end = \" :--> \")\n",
    "        if rootNode.left :\n",
    "            print(\"L :\",rootNode.left.data,\" \",end=\" \")\n",
    "        if rootNode.right:\n",
    "            print(\"R :\",rootNode.right.data,end=\"  \")\n",
    "        print()\n",
    "        self.printHelper(rootNode=rootNode.left)\n",
    "        self.printHelper(rootNode=rootNode.right)\n",
    "            \n",
    "    def printTree(self):\n",
    "        return self.printHelper(self.rootNode)\n",
    "\n",
    "    def isPresent(self,k):\n",
    "        if self.rootNode==None:\n",
    "            return -1\n",
    "        elif self.rootNode.data==k:\n",
    "            return self.rootNode\n",
    "        \n",
    "        elif self.rootNode.data>k:\n",
    "            return self.checkElementInTree(self.rootNode.left,k)\n",
    "        else:\n",
    "            return self.checkElementInTree(self.rootNode.right,k)\n",
    "\n",
    "    def checkElementInTree(self,rootNode,k):\n",
    "        if rootNode==None:\n",
    "            return -1\n",
    "        elif rootNode.data==k:\n",
    "            return rootNode\n",
    "\n",
    "        elif rootNode.data>k:\n",
    "            left = self.checkElementInTree(rootNode=rootNode.left,k=k)\n",
    "            return left\n",
    "        \n",
    "        else:\n",
    "            rgt = self.checkElementInTree(rootNode.right,k)\n",
    "            return rgt\n",
    "\n",
    "    def insertElements(self,ele):\n",
    "        self.numNode+=1\n",
    "        self.rootNode = self.insertHelper(self.rootNode,ele)\n",
    "\n",
    "    def insertHelper(self,rootNode,ele):\n",
    "        if rootNode==None:\n",
    "\n",
    "            return root(ele)\n",
    "\n",
    "        if rootNode.data>ele:\n",
    "            rootNode.left = self.insertHelper(rootNode.left,ele)\n",
    "            return rootNode\n",
    "        else:\n",
    "            rootNode.right = self.insertHelper(rootNode.right,ele)\n",
    "            return rootNode\n",
    "        \n",
    "\n",
    "treeObj = BST()\n",
    "treeObj.insertElements(80)"
   ]
  },
  {
   "cell_type": "code",
   "execution_count": 73,
   "metadata": {},
   "outputs": [],
   "source": [
    "[2,3,4,5,6,7,8,9]"
   ]
  },
  {
   "cell_type": "code",
   "execution_count": null,
   "metadata": {},
   "outputs": [],
   "source": []
  }
 ],
 "metadata": {
  "kernelspec": {
   "display_name": "Python 3.9.6 64-bit",
   "language": "python",
   "name": "python3"
  },
  "language_info": {
   "codemirror_mode": {
    "name": "ipython",
    "version": 3
   },
   "file_extension": ".py",
   "mimetype": "text/x-python",
   "name": "python",
   "nbconvert_exporter": "python",
   "pygments_lexer": "ipython3",
   "version": "3.9.6"
  },
  "orig_nbformat": 4,
  "vscode": {
   "interpreter": {
    "hash": "9ed01bf3e969b83a52ea704bdfcdb9489080434f4a73e48ff34431a518d0aca8"
   }
  }
 },
 "nbformat": 4,
 "nbformat_minor": 2
}
