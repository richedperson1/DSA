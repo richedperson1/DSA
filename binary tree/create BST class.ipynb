{
 "cells": [
  {
   "cell_type": "code",
   "execution_count": 14,
   "metadata": {},
   "outputs": [],
   "source": [
    "from binarytree import Node as nn\n",
    "from binarytree import build\n",
    "  \n",
    "# root = Node(3)\n",
    "# root.left = Node(6)\n",
    "# root.right = Node(8)\n",
    "  \n",
    "# # Getting binary tree\n",
    "# print('Binary tree :', root)"
   ]
  },
  {
   "cell_type": "code",
   "execution_count": 23,
   "metadata": {},
   "outputs": [
    {
     "name": "stdout",
     "output_type": "stream",
     "text": [
      "\n",
      "    __4__\n",
      "   /     \\\n",
      "  2       8\n",
      " / \\     / \\\n",
      "1   3   7   10\n",
      "\n"
     ]
    }
   ],
   "source": [
    "from binary_tree import *\n",
    "from binarytree import build\n",
    "treeElements = [4, 2, 8, 1, 3, 7, 10]\n",
    "# nodes =[3, 6, 8, 2, 11, None, 13]\n",
    "\n",
    "tree = build(treeElements)\n",
    "print(tree)"
   ]
  },
  {
   "cell_type": "code",
   "execution_count": 12,
   "metadata": {},
   "outputs": [
    {
     "name": "stdout",
     "output_type": "stream",
     "text": [
      "<binary_tree.root object at 0x000001778877A640>\n"
     ]
    }
   ],
   "source": [
    "nn = bst\n"
   ]
  }
 ],
 "metadata": {
  "kernelspec": {
   "display_name": "Python 3.9.6 64-bit",
   "language": "python",
   "name": "python3"
  },
  "language_info": {
   "codemirror_mode": {
    "name": "ipython",
    "version": 3
   },
   "file_extension": ".py",
   "mimetype": "text/x-python",
   "name": "python",
   "nbconvert_exporter": "python",
   "pygments_lexer": "ipython3",
   "version": "3.9.6"
  },
  "orig_nbformat": 4,
  "vscode": {
   "interpreter": {
    "hash": "9ed01bf3e969b83a52ea704bdfcdb9489080434f4a73e48ff34431a518d0aca8"
   }
  }
 },
 "nbformat": 4,
 "nbformat_minor": 2
}
