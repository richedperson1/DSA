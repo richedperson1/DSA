{
 "cells": [
  {
   "cell_type": "code",
   "execution_count": 1,
   "metadata": {},
   "outputs": [],
   "source": [
    "from binary_tree import *"
   ]
  },
  {
   "cell_type": "code",
   "execution_count": 12,
   "metadata": {},
   "outputs": [],
   "source": [
    "lst = [2,6,1,3,5,9]\n",
    "binaryTree = createTree().createTreeUsingList(4,lst)"
   ]
  },
  {
   "cell_type": "code",
   "execution_count": 13,
   "metadata": {},
   "outputs": [
    {
     "name": "stdout",
     "output_type": "stream",
     "text": [
      "4 :  L :  2  R  6\n",
      "2 :  L :  1  R  3\n",
      "1 : \n",
      "3 : \n",
      "6 :  L :  5  R  9\n",
      "5 : \n",
      "9 : \n"
     ]
    }
   ],
   "source": [
    "root.print_tree(binaryTree)"
   ]
  }
 ],
 "metadata": {
  "kernelspec": {
   "display_name": "Python 3.9.6 64-bit",
   "language": "python",
   "name": "python3"
  },
  "language_info": {
   "codemirror_mode": {
    "name": "ipython",
    "version": 3
   },
   "file_extension": ".py",
   "mimetype": "text/x-python",
   "name": "python",
   "nbconvert_exporter": "python",
   "pygments_lexer": "ipython3",
   "version": "3.9.6"
  },
  "orig_nbformat": 4,
  "vscode": {
   "interpreter": {
    "hash": "9ed01bf3e969b83a52ea704bdfcdb9489080434f4a73e48ff34431a518d0aca8"
   }
  }
 },
 "nbformat": 4,
 "nbformat_minor": 2
}
