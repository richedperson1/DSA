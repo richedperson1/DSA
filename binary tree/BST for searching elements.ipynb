{
 "cells": [
  {
   "cell_type": "code",
   "execution_count": null,
   "metadata": {},
   "outputs": [],
   "source": [
    "from binary_tree import *"
   ]
  },
  {
   "cell_type": "code",
   "execution_count": null,
   "metadata": {},
   "outputs": [],
   "source": [
    "lst = list(map(int,\"5 10 2 6 -1 -1 -1 -1 -1 7 -1 -1\".split()))\n",
    "binaryTree = createTree().createTreeUsingList(8,lst)"
   ]
  },
  {
   "cell_type": "code",
   "execution_count": null,
   "metadata": {},
   "outputs": [],
   "source": [
    "root.print_tree(binaryTree)"
   ]
  },
  {
   "cell_type": "code",
   "execution_count": 49,
   "metadata": {},
   "outputs": [
    {
     "name": "stdout",
     "output_type": "stream",
     "text": [
      "6\n"
     ]
    }
   ],
   "source": [
    "def checkElement(root,ele):\n",
    "    if root==None:\n",
    "        return None\n",
    "    if root.data==ele:\n",
    "        return root\n",
    "    if root.data > ele:\n",
    "        local = checkElement(root.left,ele)\n",
    "    else:\n",
    "        local = checkElement(root.right,ele)\n",
    "\n",
    "    if local :\n",
    "        return local\n",
    "    return False\n",
    "\n",
    "a = checkElement(binaryTree,6)\n",
    "try:\n",
    "    print(a.data)\n",
    "except:\n",
    "    print(\"Value not present\")"
   ]
  },
  {
   "cell_type": "code",
   "execution_count": 39,
   "metadata": {},
   "outputs": [
    {
     "data": {
      "text/plain": [
       "7"
      ]
     },
     "execution_count": 39,
     "metadata": {},
     "output_type": "execute_result"
    }
   ],
   "source": []
  }
 ],
 "metadata": {
  "kernelspec": {
   "display_name": "Python 3.9.6 64-bit",
   "language": "python",
   "name": "python3"
  },
  "language_info": {
   "codemirror_mode": {
    "name": "ipython",
    "version": 3
   },
   "file_extension": ".py",
   "mimetype": "text/x-python",
   "name": "python",
   "nbconvert_exporter": "python",
   "pygments_lexer": "ipython3",
   "version": "3.9.6"
  },
  "orig_nbformat": 4,
  "vscode": {
   "interpreter": {
    "hash": "9ed01bf3e969b83a52ea704bdfcdb9489080434f4a73e48ff34431a518d0aca8"
   }
  }
 },
 "nbformat": 4,
 "nbformat_minor": 2
}
