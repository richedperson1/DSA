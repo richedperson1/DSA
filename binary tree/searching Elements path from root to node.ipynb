{
 "cells": [
  {
   "cell_type": "code",
   "execution_count": 39,
   "metadata": {},
   "outputs": [
    {
     "name": "stdout",
     "output_type": "stream",
     "text": [
      "4 :  L :  2  R  8\n",
      "2 :  L :  1  R  3\n",
      "1 :  L :  15  R  40\n",
      "15 : \n",
      "40 :  R  9\n",
      "9 : \n",
      "3 : \n",
      "8 :  L :  7  R  10\n",
      "7 : \n",
      "10 : \n"
     ]
    }
   ],
   "source": [
    "from binary_tree import *\n",
    "treeElements = [4, 2, 8, 1, 3, 7, 10,15,40]+[-1]*6+[-1]*3+[9]\n",
    "\n",
    "notBST = createTree().createTreeUsingList(treeElements)\n",
    "root.print_tree(notBST)"
   ]
  },
  {
   "cell_type": "code",
   "execution_count": 20,
   "metadata": {},
   "outputs": [],
   "source": [
    "def checkElements(nodes,k):\n",
    "    if nodes==None or nodes.data==k:\n",
    "        return nodes\n",
    "\n",
    "    ans1 = checkElements(nodes.left,k)\n",
    "    ans2 = checkElements(nodes.right,k)\n",
    "\n",
    "    if ans1:\n",
    "        return ans1\n",
    "    return ans2"
   ]
  },
  {
   "cell_type": "code",
   "execution_count": 31,
   "metadata": {},
   "outputs": [],
   "source": [
    "def searchElement(nodes,k,ans = []):\n",
    "    if nodes==None:\n",
    "        return None\n",
    "    \n",
    "    if nodes.data==k:\n",
    "        ans.append(nodes.data)\n",
    "        print(nodes.data)\n",
    "    leftS = checkElements(nodes.left,k)\n",
    "    rigtS = checkElements(nodes.right,k)\n",
    "\n",
    "    if leftS:\n",
    "        print(nodes.data,end=\" -----> \")\n",
    "        ans.append(nodes.data)\n",
    "        searchElement(nodes.left,k)\n",
    "    elif rigtS:\n",
    "        ans.append(nodes.data)\n",
    "        print(nodes.data,end=\" -----> \")\n",
    "        searchElement(nodes.right,k)\n",
    "    else:\n",
    "        return [-1]\n",
    "\n",
    "    return ans"
   ]
  },
  {
   "cell_type": "code",
   "execution_count": null,
   "metadata": {},
   "outputs": [],
   "source": [
    "searchElement(notBST,90)"
   ]
  },
  {
   "cell_type": "code",
   "execution_count": 46,
   "metadata": {},
   "outputs": [],
   "source": [
    "def checkElement_O(nodes,k):\n",
    "    if nodes==None :\n",
    "        return nodes\n",
    "\n",
    "    if nodes.data==k:\n",
    "        ans = [nodes.data]\n",
    "        print(nodes.data,end = \" ----- >\")\n",
    "        return ans\n",
    "    \n",
    "    leftS = checkElement_O(nodes.left,k)\n",
    "    rightS = checkElement_O(nodes.right,k)\n",
    "\n",
    "    if leftS:\n",
    "        print(nodes.data,end = \" ----- >\")\n",
    "        leftS.append(nodes.data)\n",
    "        return leftS\n",
    "    elif rightS:\n",
    "        print(nodes.data,end = \" ----- >\")\n",
    "        rightS.append(nodes.data)\n",
    "        return rightS\n",
    "    else:\n",
    "        return None\n",
    "    return [-1]\n",
    "\n",
    "checkElement_O(notBST,90)"
   ]
  },
  {
   "cell_type": "code",
   "execution_count": 38,
   "metadata": {},
   "outputs": [
    {
     "name": "stdout",
     "output_type": "stream",
     "text": [
      "4 :  L :  2  R  8\n",
      "2 :  L :  1  R  3\n",
      "1 :  L :  5  R  4\n",
      "5 : \n",
      "4 :  R  9\n",
      "9 : \n",
      "3 : \n",
      "8 :  L :  7  R  10\n",
      "7 : \n",
      "10 : \n"
     ]
    }
   ],
   "source": [
    "def checkElement_O(nodes,k):\n",
    "    if nodes==None :\n",
    "        return nodes\n",
    "\n",
    "    if nodes.data==k:\n",
    "        ans = [nodes.data]\n",
    "        print(nodes.data,end = \" ----- >\")\n",
    "        return ans\n",
    "    \n",
    "    leftS = checkElement_O(nodes.left,k)\n",
    "    if leftS:\n",
    "        print(nodes.data,end = \" ----- >\")\n",
    "        leftS.append(nodes.data)\n",
    "        return leftS\n",
    "    else:\n",
    "        rightS = checkElement_O(nodes.rights,k)\n",
    "        if rightS:\n",
    "            print(nodes.data,end = \" ----- >\")\n",
    "            rightS.append(nodes.data)\n",
    "            return rightS\n",
    "        else:\n",
    "            return None\n",
    "    return [-1]\n",
    "\n",
    "checkElement_O(notBST,90)"
   ]
  }
 ],
 "metadata": {
  "kernelspec": {
   "display_name": "Python 3.9.6 64-bit",
   "language": "python",
   "name": "python3"
  },
  "language_info": {
   "codemirror_mode": {
    "name": "ipython",
    "version": 3
   },
   "file_extension": ".py",
   "mimetype": "text/x-python",
   "name": "python",
   "nbconvert_exporter": "python",
   "pygments_lexer": "ipython3",
   "version": "3.9.6"
  },
  "orig_nbformat": 4,
  "vscode": {
   "interpreter": {
    "hash": "9ed01bf3e969b83a52ea704bdfcdb9489080434f4a73e48ff34431a518d0aca8"
   }
  }
 },
 "nbformat": 4,
 "nbformat_minor": 2
}
