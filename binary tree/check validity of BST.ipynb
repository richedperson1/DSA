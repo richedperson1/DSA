{
 "cells": [
  {
   "cell_type": "code",
   "execution_count": 4,
   "metadata": {},
   "outputs": [],
   "source": [
    "from binary_tree import *\n",
    "import sys\n",
    "Max = sys.maxsize"
   ]
  },
  {
   "cell_type": "code",
   "execution_count": 5,
   "metadata": {},
   "outputs": [
    {
     "name": "stdout",
     "output_type": "stream",
     "text": [
      "4 :  L :  2  R  8\n",
      "2 :  L :  1  R  3\n",
      "1 : \n",
      "3 : \n",
      "8 :  L :  7  R  10\n",
      "7 : \n",
      "10 : \n"
     ]
    }
   ],
   "source": [
    "treeElements = [4, 2, 8, 1, 3, 7, 10]\n",
    "\n",
    "notBST = createTree().createTreeUsingList(treeElements)\n",
    "root.print_tree(notBST)"
   ]
  },
  {
   "cell_type": "code",
   "execution_count": 6,
   "metadata": {},
   "outputs": [
    {
     "data": {
      "text/plain": [
       "(1, 10, True)"
      ]
     },
     "execution_count": 6,
     "metadata": {},
     "output_type": "execute_result"
    }
   ],
   "source": [
    "def checkValidBST(nodes):\n",
    "    if nodes==None:\n",
    "        return 9223372036854775807,-9223372036854775807,True\n",
    "\n",
    "    lmin,lmax,lans = checkValidBST(nodes.left)\n",
    "    rmin,rmax,rans = checkValidBST(nodes.right)\n",
    "\n",
    "    minimum = min(lmin,rmin,nodes.data)\n",
    "    maximum = max(lmax,rmax,nodes.data)\n",
    "\n",
    "    isValidBST = True\n",
    "\n",
    "    if lans==False or rans==False:\n",
    "        isValidBST = False\n",
    "    elif nodes.data<=lmax or nodes.data>rmin:\n",
    "        isValidBST = False\n",
    "    return minimum,maximum,isValidBST\n",
    "\n",
    "checkValidBST(notBST)"
   ]
  },
  {
   "cell_type": "code",
   "execution_count": 41,
   "metadata": {},
   "outputs": [
    {
     "data": {
      "text/plain": [
       "(-9223372036854775807, 9223372036854775807, False)"
      ]
     },
     "execution_count": 41,
     "metadata": {},
     "output_type": "execute_result"
    }
   ],
   "source": [
    "checkValidBST(notBST)"
   ]
  },
  {
   "cell_type": "code",
   "execution_count": 14,
   "metadata": {},
   "outputs": [
    {
     "name": "stdout",
     "output_type": "stream",
     "text": [
      "5 :  L :  1  R  4\n",
      "1 : \n",
      "4 :  L :  3  R  6\n",
      "3 : \n",
      "6 : \n"
     ]
    }
   ],
   "source": [
    "\n",
    "tree = [5,1,4,-1,-1,3,6]\n",
    "notBST = createTree().createTreeUsingList(tree)\n",
    "root.print_tree(notBST)"
   ]
  },
  {
   "cell_type": "markdown",
   "metadata": {},
   "source": [
    "## Method 2 using limit"
   ]
  },
  {
   "cell_type": "code",
   "execution_count": 15,
   "metadata": {},
   "outputs": [
    {
     "data": {
      "text/plain": [
       "True"
      ]
     },
     "execution_count": 15,
     "metadata": {},
     "output_type": "execute_result"
    }
   ],
   "source": [
    "def checkValidBST(nodes,left,right):\n",
    "    if nodes==None:\n",
    "        return True\n",
    "\n",
    "    leftV = checkValidBST(nodes.left,left,nodes.data-1)\n",
    "    rightV = checkValidBST(nodes.right,nodes.data,right)\n",
    "\n",
    "    if not(leftV) and not(rightV):\n",
    "        return False\n",
    "\n",
    "    if nodes.data<leftV and nodes.data>rightV:\n",
    "        return False\n",
    "    return True\n",
    "\n",
    "checkValidBST(notBST,-Max,Max)"
   ]
  },
  {
   "cell_type": "code",
   "execution_count": 13,
   "metadata": {},
   "outputs": [
    {
     "data": {
      "text/plain": [
       "4294967296"
      ]
     },
     "execution_count": 13,
     "metadata": {},
     "output_type": "execute_result"
    }
   ],
   "source": [
    "2**32"
   ]
  }
 ],
 "metadata": {
  "kernelspec": {
   "display_name": "Python 3.9.6 64-bit",
   "language": "python",
   "name": "python3"
  },
  "language_info": {
   "codemirror_mode": {
    "name": "ipython",
    "version": 3
   },
   "file_extension": ".py",
   "mimetype": "text/x-python",
   "name": "python",
   "nbconvert_exporter": "python",
   "pygments_lexer": "ipython3",
   "version": "3.9.6"
  },
  "orig_nbformat": 4,
  "vscode": {
   "interpreter": {
    "hash": "9ed01bf3e969b83a52ea704bdfcdb9489080434f4a73e48ff34431a518d0aca8"
   }
  }
 },
 "nbformat": 4,
 "nbformat_minor": 2
}
