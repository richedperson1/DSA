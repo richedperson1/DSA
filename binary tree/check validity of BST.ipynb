{
 "cells": [
  {
   "cell_type": "code",
   "execution_count": 4,
   "metadata": {},
   "outputs": [
    {
     "data": {
      "text/plain": [
       "9223372036854775807"
      ]
     },
     "execution_count": 4,
     "metadata": {},
     "output_type": "execute_result"
    }
   ],
   "source": [
    "from binary_tree import *\n",
    "import sys\n",
    "Max = sys.maxsize"
   ]
  },
  {
   "cell_type": "code",
   "execution_count": 31,
   "metadata": {},
   "outputs": [
    {
     "name": "stdout",
     "output_type": "stream",
     "text": [
      "4 :  L :  2  R  8\n",
      "2 :  L :  1  R  3\n",
      "1 : \n",
      "3 : \n",
      "8 :  L :  7  R  10\n",
      "7 : \n",
      "10 : \n"
     ]
    }
   ],
   "source": [
    "treeElements = [4, 2, 8, 1, 3, 7, 10]\n",
    "\n",
    "notBST = createTree().createTreeUsingList(treeElements)\n",
    "root.print_tree(notBST)"
   ]
  },
  {
   "cell_type": "code",
   "execution_count": 37,
   "metadata": {},
   "outputs": [],
   "source": [
    "def checkValidBST(nodes):\n",
    "    if nodes==None:\n",
    "        return -9223372036854775807,9223372036854775807,True\n",
    "\n",
    "    lmin,lmax,lans = checkValidBST(nodes.left)\n",
    "    rmin,rmax,rans = checkValidBST(nodes.right)\n",
    "\n",
    "    minimum = min(lmin,rmin,nodes.data)\n",
    "    maximum = max(lmax,rmax,nodes.data)\n",
    "\n",
    "    isValidBST = True\n",
    "\n",
    "    if lans==False or rans==False:\n",
    "        isValidBST = False\n",
    "    elif nodes.data<=lmax or nodes.data>rmin:\n",
    "        isValidBST = False\n",
    "    return minimum,maximum,isValidBST"
   ]
  },
  {
   "cell_type": "code",
   "execution_count": 38,
   "metadata": {},
   "outputs": [
    {
     "data": {
      "text/plain": [
       "(-9223372036854775807, 9223372036854775807, False)"
      ]
     },
     "execution_count": 38,
     "metadata": {},
     "output_type": "execute_result"
    }
   ],
   "source": [
    "checkValidBST(notBST)"
   ]
  }
 ],
 "metadata": {
  "kernelspec": {
   "display_name": "Python 3.9.6 64-bit",
   "language": "python",
   "name": "python3"
  },
  "language_info": {
   "codemirror_mode": {
    "name": "ipython",
    "version": 3
   },
   "file_extension": ".py",
   "mimetype": "text/x-python",
   "name": "python",
   "nbconvert_exporter": "python",
   "pygments_lexer": "ipython3",
   "version": "3.9.6"
  },
  "orig_nbformat": 4,
  "vscode": {
   "interpreter": {
    "hash": "9ed01bf3e969b83a52ea704bdfcdb9489080434f4a73e48ff34431a518d0aca8"
   }
  }
 },
 "nbformat": 4,
 "nbformat_minor": 2
}
