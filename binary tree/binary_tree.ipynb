{
 "cells": [
  {
   "cell_type": "code",
   "execution_count": 5,
   "metadata": {},
   "outputs": [],
   "source": [
    "from binary_tree import *"
   ]
  },
  {
   "cell_type": "code",
   "execution_count": 7,
   "metadata": {},
   "outputs": [],
   "source": [
    "def createTreeUser_1() -> root:\n",
    "    rootData = int(input(\"Enter the value : \"))\n",
    "    if rootData == -1:\n",
    "        return None\n",
    "    rootNode = root(rootData)\n",
    "    leftNode = createTreeUser_1()\n",
    "    rightNode = createTreeUser_1()\n",
    "    rootNode.left = leftNode\n",
    "    rootNode.right = rightNode\n",
    "    return rootNode"
   ]
  },
  {
   "cell_type": "code",
   "execution_count": 8,
   "metadata": {},
   "outputs": [],
   "source": [
    "treeCreate = createTreeUser_1()"
   ]
  },
  {
   "cell_type": "code",
   "execution_count": 9,
   "metadata": {},
   "outputs": [
    {
     "name": "stdout",
     "output_type": "stream",
     "text": [
      "1 :  L :  2  R  9\n",
      "2 :  L :  3  R  5\n",
      "3 : \n",
      "5 : \n",
      "9 :  L :  4  R  5\n",
      "4 : \n",
      "5 : \n"
     ]
    }
   ],
   "source": [
    "root.print_tree(treeCreate)"
   ]
  },
  {
   "cell_type": "code",
   "execution_count": 18,
   "metadata": {},
   "outputs": [
    {
     "data": {
      "text/plain": [
       "1"
      ]
     },
     "execution_count": 18,
     "metadata": {},
     "output_type": "execute_result"
    }
   ],
   "source": [
    "def sum_of_node(root,total):\n",
    "    if root==None:\n",
    "        return total\n",
    "\n",
    "    left = sum_of_node(root.left,total)\n",
    "    right = sum_of_node(root.right,total)\n",
    "    total+=left+right\n",
    "    return total\n",
    "\n",
    "sum_of_node(treeCreate,0)"
   ]
  },
  {
   "cell_type": "code",
   "execution_count": null,
   "metadata": {},
   "outputs": [],
   "source": [
    "def counting(root):\n",
    "    if root == None:\n",
    "        return 0\n",
    "    left = counting(root.left)\n",
    "    right = counting(root.right)\n",
    "    return 1+left+right\n",
    "\n",
    "counting(treeCreate)"
   ]
  }
 ],
 "metadata": {
  "kernelspec": {
   "display_name": "Python 3.9.6 64-bit",
   "language": "python",
   "name": "python3"
  },
  "language_info": {
   "codemirror_mode": {
    "name": "ipython",
    "version": 3
   },
   "file_extension": ".py",
   "mimetype": "text/x-python",
   "name": "python",
   "nbconvert_exporter": "python",
   "pygments_lexer": "ipython3",
   "version": "3.9.6"
  },
  "orig_nbformat": 4,
  "vscode": {
   "interpreter": {
    "hash": "9ed01bf3e969b83a52ea704bdfcdb9489080434f4a73e48ff34431a518d0aca8"
   }
  }
 },
 "nbformat": 4,
 "nbformat_minor": 2
}
