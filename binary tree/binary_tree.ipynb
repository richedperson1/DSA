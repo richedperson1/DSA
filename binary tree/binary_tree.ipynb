{
 "cells": [
  {
   "cell_type": "code",
   "execution_count": 5,
   "metadata": {},
   "outputs": [],
   "source": [
    "from binary_tree import *"
   ]
  },
  {
   "cell_type": "code",
   "execution_count": 7,
   "metadata": {},
   "outputs": [],
   "source": [
    "def createTreeUser_1() -> root:\n",
    "    rootData = int(input(\"Enter the value : \"))\n",
    "    if rootData == -1:\n",
    "        return None\n",
    "    rootNode = root(rootData)\n",
    "    leftNode = createTreeUser_1()\n",
    "    rightNode = createTreeUser_1()\n",
    "    rootNode.left = leftNode\n",
    "    rootNode.right = rightNode\n",
    "    return rootNode"
   ]
  },
  {
   "cell_type": "code",
   "execution_count": 8,
   "metadata": {},
   "outputs": [],
   "source": [
    "treeCreate = createTreeUser_1()"
   ]
  },
  {
   "cell_type": "code",
   "execution_count": 9,
   "metadata": {},
   "outputs": [
    {
     "name": "stdout",
     "output_type": "stream",
     "text": [
      "1 :  L :  2  R  9\n",
      "2 :  L :  3  R  5\n",
      "3 : \n",
      "5 : \n",
      "9 :  L :  4  R  5\n",
      "4 : \n",
      "5 : \n"
     ]
    }
   ],
   "source": [
    "root.print_tree(treeCreate)"
   ]
  },
  {
   "cell_type": "code",
   "execution_count": 21,
   "metadata": {},
   "outputs": [
    {
     "data": {
      "text/plain": [
       "29"
      ]
     },
     "execution_count": 21,
     "metadata": {},
     "output_type": "execute_result"
    }
   ],
   "source": [
    "def sum_of_node(root,total):\n",
    "    if root==None:\n",
    "        return total\n",
    "\n",
    "    left = sum_of_node(root.left,total)\n",
    "    right = sum_of_node(root.right,total)\n",
    "    total=left+right+root.data\n",
    "    return total\n",
    "\n",
    "sum_of_node(treeCreate,0)"
   ]
  },
  {
   "cell_type": "code",
   "execution_count": null,
   "metadata": {},
   "outputs": [],
   "source": [
    "def counting(root):\n",
    "    if root == None:\n",
    "        return 0\n",
    "    left = counting(root.left)\n",
    "    right = counting(root.right)\n",
    "    return 1+left+right\n",
    "\n",
    "counting(treeCreate)"
   ]
  },
  {
   "cell_type": "markdown",
   "metadata": {},
   "source": [
    "# Traversals of Tree "
   ]
  },
  {
   "cell_type": "markdown",
   "metadata": {},
   "source": [
    "## Pre-order "
   ]
  },
  {
   "cell_type": "code",
   "execution_count": 24,
   "metadata": {},
   "outputs": [
    {
     "name": "stdout",
     "output_type": "stream",
     "text": [
      "1 : L  2  R  9 \n",
      "2 : L  3  R  5 \n",
      "3 :\n",
      "5 :\n",
      "9 : L  4  R  5 \n",
      "4 :\n",
      "5 :\n"
     ]
    }
   ],
   "source": [
    "def preOrder(root):\n",
    "    if root==None:\n",
    "        return \n",
    "    print(root.data,end=\" :\")\n",
    "    if root.left :\n",
    "         print(\" L \",root.left.data,end=\" \")\n",
    "    if root.right:\n",
    "        print(\" R \",root.right.data,end=\" \")\n",
    "\n",
    "    print()\n",
    "    preOrder(root.left)\n",
    "    preOrder(root.right)\n",
    "\n",
    "preOrder(treeCreate)"
   ]
  },
  {
   "cell_type": "markdown",
   "metadata": {},
   "source": [
    "## Post Order"
   ]
  },
  {
   "cell_type": "code",
   "execution_count": 36,
   "metadata": {},
   "outputs": [
    {
     "name": "stdout",
     "output_type": "stream",
     "text": [
      "3 :-----> 5 :-----> 2 :-----> 4 :-----> 5 :-----> 9 :-----> 1 :-----> "
     ]
    }
   ],
   "source": [
    "def preOrder(root):\n",
    "    if root==None:\n",
    "        # print(\"None\",end=\" \")\n",
    "        return \n",
    "\n",
    "    preOrder(root.left)\n",
    "    preOrder(root.right)\n",
    "    print(root.data, end=\" :-----> \")\n",
    "    # if root.left:\n",
    "    #     print(\" L \",root.left.data, end=\" \")\n",
    "    # if root.right:\n",
    "    #     print(\" R \",root.right.data,end=\" \")\n",
    "    # print()\n",
    "preOrder(treeCreate)"
   ]
  },
  {
   "cell_type": "markdown",
   "metadata": {},
   "source": [
    "## In-order"
   ]
  },
  {
   "cell_type": "code",
   "execution_count": 37,
   "metadata": {},
   "outputs": [
    {
     "name": "stdout",
     "output_type": "stream",
     "text": [
      "3 :-----> 2 :-----> 5 :-----> 1 :-----> 4 :-----> 9 :-----> 5 :-----> "
     ]
    }
   ],
   "source": [
    "def preOrder(root):\n",
    "    if root==None:\n",
    "        # print(\"None\",end=\" \")\n",
    "        return \n",
    "\n",
    "    preOrder(root.left)\n",
    "    print(root.data, end=\" :-----> \")\n",
    "    preOrder(root.right)\n",
    "    # if root.left:\n",
    "    #     print(\" L \",root.left.data, end=\" \")\n",
    "    # if root.right:\n",
    "    #     print(\" R \",root.right.data,end=\" \")\n",
    "    # print()\n",
    "preOrder(treeCreate)"
   ]
  }
 ],
 "metadata": {
  "kernelspec": {
   "display_name": "Python 3.9.6 64-bit",
   "language": "python",
   "name": "python3"
  },
  "language_info": {
   "codemirror_mode": {
    "name": "ipython",
    "version": 3
   },
   "file_extension": ".py",
   "mimetype": "text/x-python",
   "name": "python",
   "nbconvert_exporter": "python",
   "pygments_lexer": "ipython3",
   "version": "3.9.6"
  },
  "orig_nbformat": 4,
  "vscode": {
   "interpreter": {
    "hash": "9ed01bf3e969b83a52ea704bdfcdb9489080434f4a73e48ff34431a518d0aca8"
   }
  }
 },
 "nbformat": 4,
 "nbformat_minor": 2
}
