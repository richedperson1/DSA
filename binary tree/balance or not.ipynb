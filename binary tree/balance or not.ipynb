{
 "cells": [
  {
   "cell_type": "code",
   "execution_count": 1,
   "metadata": {},
   "outputs": [],
   "source": [
    "from binary_tree import *\n",
    "\n",
    "def createTreeUser_1() -> root:\n",
    "    rootData = int(input(\"Enter the value : \"))\n",
    "    if rootData == -1:\n",
    "        return None\n",
    "    rootNode = root(rootData)\n",
    "    leftNode = createTreeUser_1()\n",
    "    rightNode = createTreeUser_1()\n",
    "    rootNode.left = leftNode\n",
    "    rootNode.right = rightNode\n",
    "    return rootNode\n",
    "\n",
    "binaryTree = createTreeUser_1()"
   ]
  },
  {
   "cell_type": "code",
   "execution_count": 24,
   "metadata": {},
   "outputs": [
    {
     "name": "stdout",
     "output_type": "stream",
     "text": [
      "1 :  L :  2  R  3\n",
      "2 :  L :  5 \n",
      "5 : \n",
      "3 : \n"
     ]
    }
   ],
   "source": [
    "root.print_tree(binaryTree)"
   ]
  },
  {
   "cell_type": "code",
   "execution_count": 32,
   "metadata": {},
   "outputs": [],
   "source": [
    "binaryTree.left.left = root(5)\n",
    "binaryTree.left.left.right = root(5)"
   ]
  },
  {
   "cell_type": "code",
   "execution_count": 33,
   "metadata": {},
   "outputs": [
    {
     "data": {
      "text/plain": [
       "[False]"
      ]
     },
     "execution_count": 33,
     "metadata": {},
     "output_type": "execute_result"
    }
   ],
   "source": [
    "def checkBalance(nodes,flag = [] ):\n",
    "    if nodes ==None:\n",
    "        return 0\n",
    "    left = checkBalance(nodes.left,flag)\n",
    "    right = checkBalance(nodes.right,flag)\n",
    "\n",
    "    if left != right:\n",
    "        flag[0] = False \n",
    "    return left+right+1\n",
    "\n",
    "ans = [True]\n",
    "checkBalance(binaryTree,ans)\n",
    "ans\n"
   ]
  },
  {
   "cell_type": "code",
   "execution_count": 40,
   "metadata": {},
   "outputs": [],
   "source": [
    "def treeHeight(nodes):\n",
    "    if nodes==None:\n",
    "        return 0\n",
    "    left = treeHeight(nodes.left)\n",
    "    right = treeHeight(nodes.right)\n",
    "    return max(right,left)+1"
   ]
  },
  {
   "cell_type": "code",
   "execution_count": 39,
   "metadata": {},
   "outputs": [
    {
     "name": "stdout",
     "output_type": "stream",
     "text": [
      "0\n",
      "0\n",
      "3\n",
      "2\n",
      "0\n"
     ]
    },
    {
     "data": {
      "text/plain": [
       "True"
      ]
     },
     "execution_count": 39,
     "metadata": {},
     "output_type": "execute_result"
    }
   ],
   "source": [
    "def checkBalance_1_0(nodes,ind,ans):\n",
    "    if nodes==None:\n",
    "        return True\n",
    "    l1 = treeHeight(nodes.left)\n",
    "    r1 = treeHeight(nodes.right)\n",
    "    if abs(l1-r1)>1:\n",
    "        return False\n",
    "    left = checkBalance_1_0(nodes.left)\n",
    "    right = checkBalance_1_0(nodes.right)\n",
    "    \n",
    "\n",
    "ans = True\n",
    "checkBalance_1_0(binaryTree,0,ans)\n",
    "ans"
   ]
  },
  {
   "cell_type": "code",
   "execution_count": 35,
   "metadata": {},
   "outputs": [
    {
     "name": "stdout",
     "output_type": "stream",
     "text": [
      "1 :  L :  2  R  3\n",
      "2 :  L :  5 \n",
      "5 :  R  5\n",
      "5 : \n",
      "3 : \n"
     ]
    }
   ],
   "source": [
    "root.print_tree(binaryTree)"
   ]
  }
 ],
 "metadata": {
  "kernelspec": {
   "display_name": "Python 3.9.6 64-bit",
   "language": "python",
   "name": "python3"
  },
  "language_info": {
   "codemirror_mode": {
    "name": "ipython",
    "version": 3
   },
   "file_extension": ".py",
   "mimetype": "text/x-python",
   "name": "python",
   "nbconvert_exporter": "python",
   "pygments_lexer": "ipython3",
   "version": "3.9.6"
  },
  "orig_nbformat": 4,
  "vscode": {
   "interpreter": {
    "hash": "9ed01bf3e969b83a52ea704bdfcdb9489080434f4a73e48ff34431a518d0aca8"
   }
  }
 },
 "nbformat": 4,
 "nbformat_minor": 2
}
