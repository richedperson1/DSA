{
 "cells": [
  {
   "cell_type": "code",
   "execution_count": 22,
   "metadata": {},
   "outputs": [],
   "source": [
    "from binary_tree import *\n",
    "\n",
    "def createTreeUser_1() -> root:\n",
    "    rootData = int(input(\"Enter the value : \"))\n",
    "    if rootData == -1:\n",
    "        return None\n",
    "    rootNode = root(rootData)\n",
    "    leftNode = createTreeUser_1()\n",
    "    rightNode = createTreeUser_1()\n",
    "    rootNode.left = leftNode\n",
    "    rootNode.right = rightNode\n",
    "    return rootNode\n",
    "\n",
    "binaryTree = createTreeUser_1()"
   ]
  },
  {
   "cell_type": "code",
   "execution_count": 23,
   "metadata": {},
   "outputs": [
    {
     "name": "stdout",
     "output_type": "stream",
     "text": [
      "1 :  L :  2  R  4\n",
      "2 :  L :  3 \n",
      "3 :  L :  4 \n",
      "4 : \n",
      "4 : \n"
     ]
    }
   ],
   "source": [
    "root.print_tree(binaryTree)"
   ]
  },
  {
   "cell_type": "code",
   "execution_count": 52,
   "metadata": {},
   "outputs": [],
   "source": [
    "binaryTree.right = root(5)\n",
    "# binaryTree.left.left.right = root(5)"
   ]
  },
  {
   "cell_type": "code",
   "execution_count": 24,
   "metadata": {},
   "outputs": [
    {
     "data": {
      "text/plain": [
       "[False]"
      ]
     },
     "execution_count": 24,
     "metadata": {},
     "output_type": "execute_result"
    }
   ],
   "source": [
    "def checkBalance(nodes,flag = [] ):\n",
    "    if nodes ==None:\n",
    "        return 0\n",
    "    left = checkBalance(nodes.left,flag)\n",
    "    right = checkBalance(nodes.right,flag)\n",
    "\n",
    "    if left != right:\n",
    "        flag[0] = False \n",
    "    return left+right+1\n",
    "\n",
    "ans = [True]\n",
    "checkBalance(binaryTree,ans)\n",
    "ans\n"
   ]
  },
  {
   "cell_type": "code",
   "execution_count": 25,
   "metadata": {},
   "outputs": [],
   "source": [
    "def treeHeight(nodes):\n",
    "    if nodes==None:\n",
    "        return 0\n",
    "    left = treeHeight(nodes.left)\n",
    "    right = treeHeight(nodes.right)\n",
    "    return max(right,left)+1"
   ]
  },
  {
   "cell_type": "code",
   "execution_count": 27,
   "metadata": {},
   "outputs": [
    {
     "data": {
      "text/plain": [
       "False"
      ]
     },
     "execution_count": 27,
     "metadata": {},
     "output_type": "execute_result"
    }
   ],
   "source": [
    "def checkBalance_1_0(nodes):\n",
    "    if nodes==None:\n",
    "        return True\n",
    "    l1 = treeHeight(nodes.left)\n",
    "    r1 = treeHeight(nodes.right)\n",
    "    if abs(l1-r1)>1:\n",
    "        return False\n",
    "        \n",
    "    left = checkBalance_1_0(nodes.left)\n",
    "    right = checkBalance_1_0(nodes.right)\n",
    "    if left and right:\n",
    "        return True\n",
    "    return False\n",
    "\n",
    "ans = True\n",
    "checkBalance_1_0(binaryTree)"
   ]
  },
  {
   "cell_type": "code",
   "execution_count": 28,
   "metadata": {},
   "outputs": [
    {
     "name": "stdout",
     "output_type": "stream",
     "text": [
      "1 :  L :  2  R  4\n",
      "2 :  L :  3 \n",
      "3 :  L :  4 \n",
      "4 : \n",
      "4 : \n"
     ]
    }
   ],
   "source": [
    "root.print_tree(binaryTree)"
   ]
  },
  {
   "cell_type": "markdown",
   "metadata": {},
   "source": [
    "## Check balance or not using single pass"
   ]
  },
  {
   "cell_type": "code",
   "execution_count": 29,
   "metadata": {},
   "outputs": [],
   "source": [
    "duplicate = cloning().cloneWholeTree(binaryTree)\n",
    "duplicate.left.left.left = root(5)"
   ]
  },
  {
   "cell_type": "code",
   "execution_count": 30,
   "metadata": {},
   "outputs": [
    {
     "data": {
      "text/plain": [
       "(False, False)"
      ]
     },
     "execution_count": 30,
     "metadata": {},
     "output_type": "execute_result"
    }
   ],
   "source": [
    "\n",
    "def checkBalance(nodes,ans):\n",
    "    if nodes==None:\n",
    "        return 0\n",
    "    \n",
    "    l1 = checkBalance(nodes.left,ans)\n",
    "    l2 = checkBalance(nodes.right,ans)\n",
    "    if abs(l1-l2)>1:\n",
    "        ans.append(False)\n",
    "    return max(l1,l2)+1\n",
    "    \n",
    "ans = [0]    \n",
    "checkBalance(duplicate,ans)\n",
    "ans[1],checkBalance_1_0(duplicate)"
   ]
  },
  {
   "cell_type": "code",
   "execution_count": 18,
   "metadata": {},
   "outputs": [
    {
     "name": "stdout",
     "output_type": "stream",
     "text": [
      "1 :  L :  2  R  5\n",
      "2 :  L :  3  R  4\n",
      "3 :  L :  5 \n",
      "5 : \n",
      "4 : \n",
      "5 : \n"
     ]
    }
   ],
   "source": [
    "root.print_tree(duplicate)"
   ]
  },
  {
   "cell_type": "markdown",
   "metadata": {},
   "source": [
    "### Method 3"
   ]
  },
  {
   "cell_type": "code",
   "execution_count": 32,
   "metadata": {},
   "outputs": [
    {
     "data": {
      "text/plain": [
       "-1"
      ]
     },
     "execution_count": 32,
     "metadata": {},
     "output_type": "execute_result"
    }
   ],
   "source": [
    "def treeBalanceCheck(root):\n",
    "    if root==None:\n",
    "        return 0\n",
    "    l1 = treeBalanceCheck(root.left)\n",
    "    r1 = treeBalanceCheck(root.right)\n",
    "    if l1==-1 or r1==-1 or abs(l1-r1)>1:\n",
    "        return -1\n",
    "    return max(r1,l1)+1\n",
    "\n",
    "treeBalanceCheck(duplicate)    "
   ]
  }
 ],
 "metadata": {
  "kernelspec": {
   "display_name": "Python 3.9.6 64-bit",
   "language": "python",
   "name": "python3"
  },
  "language_info": {
   "codemirror_mode": {
    "name": "ipython",
    "version": 3
   },
   "file_extension": ".py",
   "mimetype": "text/x-python",
   "name": "python",
   "nbconvert_exporter": "python",
   "pygments_lexer": "ipython3",
   "version": "3.9.6"
  },
  "orig_nbformat": 4,
  "vscode": {
   "interpreter": {
    "hash": "9ed01bf3e969b83a52ea704bdfcdb9489080434f4a73e48ff34431a518d0aca8"
   }
  }
 },
 "nbformat": 4,
 "nbformat_minor": 2
}
