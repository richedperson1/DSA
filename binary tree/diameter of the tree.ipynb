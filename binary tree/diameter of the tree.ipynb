{
 "cells": [
  {
   "cell_type": "code",
   "execution_count": 1,
   "metadata": {},
   "outputs": [],
   "source": [
    "from binary_tree import *\n",
    "\n",
    "def createTreeUser_1() -> root:\n",
    "    rootData = int(input(\"Enter the value : \"))\n",
    "    if rootData == -1:\n",
    "        return None\n",
    "    rootNode = root(rootData)\n",
    "    leftNode = createTreeUser_1()\n",
    "    rightNode = createTreeUser_1()\n",
    "    rootNode.left = leftNode\n",
    "    rootNode.right = rightNode\n",
    "    return rootNode\n",
    "\n",
    "binaryTree = createTreeUser_1()"
   ]
  },
  {
   "cell_type": "code",
   "execution_count": 8,
   "metadata": {},
   "outputs": [
    {
     "name": "stdout",
     "output_type": "stream",
     "text": [
      "1 :  L :  2  R  4\n",
      "2 :  L :  3 \n",
      "3 :  L :  4 \n",
      "4 : \n",
      "4 :  L :  6  R  5\n",
      "6 : \n",
      "5 : \n"
     ]
    }
   ],
   "source": [
    "duplicate = cloning().cloneWholeTree(binaryTree)\n",
    "root.print_tree(duplicate)"
   ]
  },
  {
   "cell_type": "code",
   "execution_count": 12,
   "metadata": {},
   "outputs": [
    {
     "data": {
      "text/plain": [
       "5"
      ]
     },
     "execution_count": 12,
     "metadata": {},
     "output_type": "execute_result"
    }
   ],
   "source": [
    "def circleDiameter(root,maxi):\n",
    "    if root==None:\n",
    "        return 0,maxi\n",
    "    l1,maxi = circleDiameter(root.left,maxi)\n",
    "    r1,maxi = circleDiameter(root.right,maxi)\n",
    "    if l1+r1>maxi:\n",
    "        maxi = l1+r1\n",
    "    return max(l1,r1)+1,maxi\n",
    "circleDiameter(duplicate,0)[1]"
   ]
  },
  {
   "cell_type": "code",
   "execution_count": 10,
   "metadata": {},
   "outputs": [],
   "source": [
    "tree = root(10)\n",
    "tree.right = root(11)\n",
    "tree.right.right = root(12)\n",
    "tree.right.right.right = root(13)\n",
    "tree.right.right.right.right = root(14)\n",
    "tree.right.right.right.right.right = root(15)\n"
   ]
  },
  {
   "cell_type": "code",
   "execution_count": 18,
   "metadata": {},
   "outputs": [],
   "source": [
    "duplicate.left.right = tree"
   ]
  },
  {
   "cell_type": "code",
   "execution_count": 19,
   "metadata": {},
   "outputs": [
    {
     "data": {
      "text/plain": [
       "9"
      ]
     },
     "execution_count": 19,
     "metadata": {},
     "output_type": "execute_result"
    }
   ],
   "source": [
    "circleDiameter(duplicate,0)[1]"
   ]
  }
 ],
 "metadata": {
  "kernelspec": {
   "display_name": "Python 3.9.6 64-bit",
   "language": "python",
   "name": "python3"
  },
  "language_info": {
   "codemirror_mode": {
    "name": "ipython",
    "version": 3
   },
   "file_extension": ".py",
   "mimetype": "text/x-python",
   "name": "python",
   "nbconvert_exporter": "python",
   "pygments_lexer": "ipython3",
   "version": "3.9.6"
  },
  "orig_nbformat": 4,
  "vscode": {
   "interpreter": {
    "hash": "9ed01bf3e969b83a52ea704bdfcdb9489080434f4a73e48ff34431a518d0aca8"
   }
  }
 },
 "nbformat": 4,
 "nbformat_minor": 2
}
