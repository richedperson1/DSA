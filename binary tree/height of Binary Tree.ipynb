{
 "cells": [
  {
   "cell_type": "code",
   "execution_count": 1,
   "metadata": {},
   "outputs": [],
   "source": [
    "from binary_tree import *\n",
    "\n",
    "def createTreeUser_1() -> root:\n",
    "    rootData = int(input(\"Enter the value : \"))\n",
    "    if rootData == -1:\n",
    "        return None\n",
    "    rootNode = root(rootData)\n",
    "    leftNode = createTreeUser_1()\n",
    "    rightNode = createTreeUser_1()\n",
    "    rootNode.left = leftNode\n",
    "    rootNode.right = rightNode\n",
    "    return rootNode"
   ]
  },
  {
   "cell_type": "markdown",
   "metadata": {},
   "source": [
    "# Height of the Tree"
   ]
  },
  {
   "cell_type": "code",
   "execution_count": 2,
   "metadata": {},
   "outputs": [],
   "source": [
    "treeCreate = createTreeUser_1()"
   ]
  },
  {
   "cell_type": "code",
   "execution_count": 3,
   "metadata": {},
   "outputs": [
    {
     "name": "stdout",
     "output_type": "stream",
     "text": [
      "1 :  L :  2  R  5\n",
      "2 :  L :  3  R  4\n",
      "3 : \n",
      "4 : \n",
      "5 :  L :  6  R  7\n",
      "6 : \n",
      "7 : \n"
     ]
    }
   ],
   "source": [
    "root.print_tree(treeCreate)"
   ]
  },
  {
   "cell_type": "code",
   "execution_count": null,
   "metadata": {},
   "outputs": [],
   "source": [
    "treeCreate_2 = createTreeUser_1()"
   ]
  },
  {
   "cell_type": "code",
   "execution_count": 10,
   "metadata": {},
   "outputs": [
    {
     "name": "stdout",
     "output_type": "stream",
     "text": [
      "2 :  L :  3  R  4\n",
      "3 :  L :  4  R  5\n",
      "4 : \n",
      "5 :  L :  6 \n",
      "6 :  L :  7 \n",
      "7 : \n",
      "4 : \n"
     ]
    }
   ],
   "source": [
    "root.print_tree(treeCreate_2)"
   ]
  },
  {
   "cell_type": "code",
   "execution_count": 16,
   "metadata": {},
   "outputs": [],
   "source": [
    "def treeHeight(root,maxi):\n",
    "    if root==None:\n",
    "        return maxi\n",
    "\n",
    "\n",
    "    local1 = treeHeight(root.left,maxi+1)\n",
    "    local2 = treeHeight(root.right,maxi+1)\n",
    "    return max(local1 , local2)\n"
   ]
  },
  {
   "cell_type": "code",
   "execution_count": 31,
   "metadata": {},
   "outputs": [
    {
     "name": "stdout",
     "output_type": "stream",
     "text": [
      "5\n",
      "0\n",
      "1\n"
     ]
    }
   ],
   "source": [
    "def treeHeightUsingRoot(root):\n",
    "    if root==None:\n",
    "        return 0\n",
    "    local1 = treeHeightUsingRoot(root.left)\n",
    "    local2 = treeHeightUsingRoot(root.right)\n",
    "    return max(local1,local2)+1\n",
    "\n",
    "print(treeHeightUsingRoot(treeCreate_2))\n",
    "print(treeHeightUsingRoot(None))\n",
    "print(treeHeightUsingRoot(root(5)))"
   ]
  },
  {
   "cell_type": "code",
   "execution_count": 29,
   "metadata": {},
   "outputs": [
    {
     "data": {
      "text/plain": [
       "5"
      ]
     },
     "execution_count": 29,
     "metadata": {},
     "output_type": "execute_result"
    }
   ],
   "source": [
    "treeHeight(treeCreate_2,0)"
   ]
  },
  {
   "cell_type": "markdown",
   "metadata": {},
   "source": [
    "# Number of leaf Node"
   ]
  },
  {
   "cell_type": "code",
   "execution_count": 24,
   "metadata": {},
   "outputs": [],
   "source": [
    "def leafNodeNumber(root,maxi):\n",
    "    if root ==None:\n",
    "        return maxi\n",
    "    if root.left==None and root.right==None:\n",
    "        maxi+=1\n",
    "\n",
    "    maxi1 = leafNodeNumber(root.left,maxi)\n",
    "    maxi2 = leafNodeNumber(root.right,maxi1)\n",
    "    return maxi2"
   ]
  },
  {
   "cell_type": "code",
   "execution_count": 26,
   "metadata": {},
   "outputs": [
    {
     "data": {
      "text/plain": [
       "3"
      ]
     },
     "execution_count": 26,
     "metadata": {},
     "output_type": "execute_result"
    }
   ],
   "source": [
    "leafNodeNumber(treeCreate_2,0)"
   ]
  }
 ],
 "metadata": {
  "kernelspec": {
   "display_name": "Python 3.9.6 64-bit",
   "language": "python",
   "name": "python3"
  },
  "language_info": {
   "codemirror_mode": {
    "name": "ipython",
    "version": 3
   },
   "file_extension": ".py",
   "mimetype": "text/x-python",
   "name": "python",
   "nbconvert_exporter": "python",
   "pygments_lexer": "ipython3",
   "version": "3.9.6"
  },
  "orig_nbformat": 4,
  "vscode": {
   "interpreter": {
    "hash": "9ed01bf3e969b83a52ea704bdfcdb9489080434f4a73e48ff34431a518d0aca8"
   }
  }
 },
 "nbformat": 4,
 "nbformat_minor": 2
}
