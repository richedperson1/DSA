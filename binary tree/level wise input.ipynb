{
 "cells": [
  {
   "cell_type": "code",
   "execution_count": 1,
   "metadata": {},
   "outputs": [],
   "source": [
    "from binary_tree import *\n",
    "import queue"
   ]
  },
  {
   "cell_type": "code",
   "execution_count": 17,
   "metadata": {},
   "outputs": [
    {
     "data": {
      "text/plain": [
       "[2, 3, 4, 5, -1, 6, 7, -1, -1, -1, -1, -1, -1, -1, -1]"
      ]
     },
     "execution_count": 17,
     "metadata": {},
     "output_type": "execute_result"
    }
   ],
   "source": [
    "arr = [2,3,4,5,-1,6,7]\n",
    "arr.extend([-1]*8)\n",
    "arr"
   ]
  },
  {
   "cell_type": "code",
   "execution_count": 21,
   "metadata": {},
   "outputs": [
    {
     "name": "stdout",
     "output_type": "stream",
     "text": [
      "1 :  L :  2  R  3\n",
      "2 :  L :  4  R  5\n",
      "4 :  L :  7 \n",
      "7 : \n",
      "5 : \n",
      "3 :  R  6\n",
      "6 : \n"
     ]
    }
   ],
   "source": [
    "lst = arr\n",
    "\n",
    "def createTree(rData,lst):\n",
    "    rootNode = root(rData)\n",
    "    binarQue = queue.Queue()\n",
    "    binarQue.put(rootNode)\n",
    "    i = 0\n",
    "    while not binarQue.empty() and i<len(lst):\n",
    "        curr = binarQue.get()\n",
    "        if lst[i]!=-1:\n",
    "            newLeft = root(lst[i])\n",
    "            curr.left = newLeft\n",
    "            binarQue.put(newLeft)\n",
    "            i+=1\n",
    "        elif lst[i]==-1:\n",
    "            i+=1\n",
    "        \n",
    "        if lst[i]!=-1:\n",
    "            newRight = root(lst[i])\n",
    "            curr.right = newRight\n",
    "            binarQue.put(newRight)\n",
    "            i+=1\n",
    "        elif lst[i]==-1:\n",
    "            i+=1\n",
    "    \n",
    "    return rootNode\n",
    "tree = createTree(1,lst)\n",
    "root.print_tree(tree)"
   ]
  },
  {
   "cell_type": "code",
   "execution_count": null,
   "metadata": {},
   "outputs": [],
   "source": []
  },
  {
   "cell_type": "code",
   "execution_count": null,
   "metadata": {},
   "outputs": [],
   "source": []
  }
 ],
 "metadata": {
  "kernelspec": {
   "display_name": "Python 3.9.6 64-bit",
   "language": "python",
   "name": "python3"
  },
  "language_info": {
   "codemirror_mode": {
    "name": "ipython",
    "version": 3
   },
   "file_extension": ".py",
   "mimetype": "text/x-python",
   "name": "python",
   "nbconvert_exporter": "python",
   "pygments_lexer": "ipython3",
   "version": "3.9.6"
  },
  "orig_nbformat": 4,
  "vscode": {
   "interpreter": {
    "hash": "9ed01bf3e969b83a52ea704bdfcdb9489080434f4a73e48ff34431a518d0aca8"
   }
  }
 },
 "nbformat": 4,
 "nbformat_minor": 2
}
