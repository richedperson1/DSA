{
 "cells": [
  {
   "cell_type": "code",
   "execution_count": 2,
   "metadata": {},
   "outputs": [],
   "source": [
    "from binary_tree import *\n",
    "\n",
    "def createTreeUser_1() -> root:\n",
    "    rootData = int(input(\"Enter the value : \"))\n",
    "    if rootData == -1:\n",
    "        return None\n",
    "    rootNode = root(rootData)\n",
    "    leftNode = createTreeUser_1()\n",
    "    rightNode = createTreeUser_1()\n",
    "    rootNode.left = leftNode\n",
    "    rootNode.right = rightNode\n",
    "    return rootNode\n",
    "\n",
    "removeNode1 = createTreeUser_1()"
   ]
  },
  {
   "cell_type": "code",
   "execution_count": 3,
   "metadata": {},
   "outputs": [
    {
     "name": "stdout",
     "output_type": "stream",
     "text": [
      "1 :  L :  2  R  5\n",
      "2 :  L :  3  R  4\n",
      "3 : \n",
      "4 : \n",
      "5 : \n"
     ]
    }
   ],
   "source": [
    "root.print_tree(removeNode1)"
   ]
  },
  {
   "cell_type": "markdown",
   "metadata": {},
   "source": [
    "## Cloning tree"
   ]
  },
  {
   "cell_type": "code",
   "execution_count": 4,
   "metadata": {},
   "outputs": [],
   "source": [
    "class cloning:\n",
    "    def clone(self,nodes,dist):\n",
    "        if nodes==None:\n",
    "            return dist\n",
    "        new = root(nodes.data)\n",
    "        dist[nodes] = new\n",
    "        self.clone(nodes.left,dist)\n",
    "        self.clone(nodes.right,dist)\n",
    "        return dist\n",
    "\n",
    "    def cloneTree(self,first,form):\n",
    "        if first==None:\n",
    "            return form\n",
    "        item = form[first]\n",
    "        item.left = form[first.left]\n",
    "        item.right = form[first.right]\n",
    "        self.cloneTree(first.left,form)\n",
    "        self.cloneTree(first.right,form)\n",
    "    \n",
    "    def cloneWholeTree(self,fromReplication):\n",
    "        cloneItem = self.clone(fromReplication,{None:None})\n",
    "        self.cloneTree(fromReplication,cloneItem)\n",
    "        return cloneItem[fromReplication]"
   ]
  },
  {
   "cell_type": "code",
   "execution_count": 6,
   "metadata": {},
   "outputs": [],
   "source": [
    "replica = cloning().cloneWholeTree(removeNode1)\n"
   ]
  },
  {
   "cell_type": "code",
   "execution_count": 100,
   "metadata": {},
   "outputs": [
    {
     "name": "stdout",
     "output_type": "stream",
     "text": [
      "1 :  L :  2  R  5\n",
      "2 :  L :  3  R  4\n",
      "3 : \n",
      "4 : \n",
      "5 : \n"
     ]
    }
   ],
   "source": [
    "replica = cloning().cloneWholeTree(removeNode1)\n",
    "replica2 = cloning().cloneWholeTree(replica)\n",
    "removeNode = replica\n",
    "root.print_tree(removeNode)"
   ]
  },
  {
   "cell_type": "code",
   "execution_count": 78,
   "metadata": {},
   "outputs": [
    {
     "name": "stdout",
     "output_type": "stream",
     "text": [
      "1 :  L :  2 \n",
      "2 : \n"
     ]
    }
   ],
   "source": [
    "def removeLeafNode(nodes):\n",
    "    if nodes==None:\n",
    "        return\n",
    "    if nodes.left==None and nodes.right==None:\n",
    "        return None\n",
    "    \n",
    "    nodes.left = removeLeafNode(nodes.left)\n",
    "    nodes.right = removeLeafNode(nodes.right)\n",
    "    return nodes\n",
    "removeLeafNode(removeNode)\n",
    "root.print_tree(removeNode)"
   ]
  },
  {
   "cell_type": "code",
   "execution_count": 102,
   "metadata": {},
   "outputs": [
    {
     "name": "stdout",
     "output_type": "stream",
     "text": [
      "1 :  L :  2  R  5\n",
      "2 :  L :  3  R  4\n",
      "3 : \n",
      "4 : \n",
      "5 : \n",
      "----------------------------------------------------------------------------------------------------\n",
      "1 :  L :  2  R  5\n",
      "2 :  L :  3  R  4\n",
      "3 : \n",
      "4 : \n",
      "5 : \n"
     ]
    }
   ],
   "source": [
    "def removeLeafNode_2(nodes):\n",
    "    if nodes==None:\n",
    "        return\n",
    "    if nodes.left==None and nodes.right==None:\n",
    "        nodes = None\n",
    "        return \n",
    "    \n",
    "    removeLeafNode_2(nodes.left)\n",
    "    removeLeafNode_2(nodes.right)\n",
    "    # return nodes\n",
    "root.print_tree(removeNode)\n",
    "print(\"--\"*50)\n",
    "removeLeafNode_2(removeNode)\n",
    "root.print_tree(removeNode)"
   ]
  },
  {
   "cell_type": "code",
   "execution_count": 84,
   "metadata": {},
   "outputs": [],
   "source": [
    "ele = removeLeafNode_2(root(50))\n",
    "root.print_tree(ele)"
   ]
  },
  {
   "cell_type": "code",
   "execution_count": 103,
   "metadata": {},
   "outputs": [
    {
     "name": "stdout",
     "output_type": "stream",
     "text": [
      "1 :  L :  2  R  5\n",
      "2 :  L :  3  R  4\n",
      "3 : \n",
      "4 : \n",
      "5 : \n"
     ]
    }
   ],
   "source": [
    "root.print_tree(removeNode)"
   ]
  },
  {
   "cell_type": "markdown",
   "metadata": {},
   "source": [
    "## Mirrored binary tree"
   ]
  },
  {
   "cell_type": "code",
   "execution_count": 106,
   "metadata": {},
   "outputs": [
    {
     "name": "stdout",
     "output_type": "stream",
     "text": [
      "1 :  L :  2  R  5\n",
      "2 :  L :  3  R  4\n",
      "3 : \n",
      "4 : \n",
      "5 : \n"
     ]
    }
   ],
   "source": [
    "mirrored = cloning().cloneWholeTree(replica)\n",
    "root.print_tree(mirrored)"
   ]
  },
  {
   "cell_type": "code",
   "execution_count": 2,
   "metadata": {},
   "outputs": [],
   "source": [
    "def mirror(nodes):\n",
    "    if nodes==None:\n",
    "        return \n",
    "    temp = nodes.left\n",
    "    nodes.left = nodes.right\n",
    "    nodes.right = temp\n",
    "    mirror(nodes.left)\n",
    "    mirror(nodes.right)\n",
    "\n",
    "root.print_tree(mirrored)\n",
    "print(\"--\"*10)\n",
    "mirror(mirrored)\n",
    "root.print_tree(mirrored)"
   ]
  }
 ],
 "metadata": {
  "kernelspec": {
   "display_name": "Python 3.9.6 64-bit",
   "language": "python",
   "name": "python3"
  },
  "language_info": {
   "codemirror_mode": {
    "name": "ipython",
    "version": 3
   },
   "file_extension": ".py",
   "mimetype": "text/x-python",
   "name": "python",
   "nbconvert_exporter": "python",
   "pygments_lexer": "ipython3",
   "version": "3.9.6"
  },
  "orig_nbformat": 4,
  "vscode": {
   "interpreter": {
    "hash": "9ed01bf3e969b83a52ea704bdfcdb9489080434f4a73e48ff34431a518d0aca8"
   }
  }
 },
 "nbformat": 4,
 "nbformat_minor": 2
}
