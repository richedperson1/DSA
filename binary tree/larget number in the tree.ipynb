{
 "cells": [
  {
   "cell_type": "code",
   "execution_count": 1,
   "metadata": {},
   "outputs": [],
   "source": [
    "from binary_tree import *"
   ]
  },
  {
   "cell_type": "code",
   "execution_count": 2,
   "metadata": {},
   "outputs": [],
   "source": [
    "def createTreeUser_1() -> root:\n",
    "    rootData = int(input(\"Enter the value : \"))\n",
    "    if rootData == -1:\n",
    "        return None\n",
    "    rootNode = root(rootData)\n",
    "    leftNode = createTreeUser_1()\n",
    "    rightNode = createTreeUser_1()\n",
    "    rootNode.left = leftNode\n",
    "    rootNode.right = rightNode\n",
    "    return rootNode"
   ]
  },
  {
   "cell_type": "code",
   "execution_count": 3,
   "metadata": {},
   "outputs": [],
   "source": [
    "treeCreate = createTreeUser_1()"
   ]
  },
  {
   "cell_type": "code",
   "execution_count": 4,
   "metadata": {},
   "outputs": [
    {
     "name": "stdout",
     "output_type": "stream",
     "text": [
      "1 :  L :  2  R  9\n",
      "2 :  L :  3  R  5\n",
      "3 : \n",
      "5 : \n",
      "9 :  L :  6  R  7\n",
      "6 : \n",
      "7 : \n"
     ]
    }
   ],
   "source": [
    "root.print_tree(treeCreate)"
   ]
  },
  {
   "cell_type": "markdown",
   "metadata": {},
   "source": [
    "### Largest number in the tree"
   ]
  },
  {
   "cell_type": "code",
   "execution_count": 7,
   "metadata": {},
   "outputs": [
    {
     "data": {
      "text/plain": [
       "9"
      ]
     },
     "execution_count": 7,
     "metadata": {},
     "output_type": "execute_result"
    }
   ],
   "source": [
    "def findLargeNumber(root,maxi):\n",
    "    if root==None:\n",
    "        return maxi\n",
    "    maxi = max(maxi,root.data)\n",
    "    # findLargeNumber(root.left,maxi)\n",
    "    # findLargeNumber(root.right,maxi)\n",
    "    maxi = findLargeNumber(root.left,maxi)\n",
    "    maxi = findLargeNumber(root.right,maxi)\n",
    "    return maxi\n",
    "findLargeNumber(treeCreate,-1)"
   ]
  }
 ],
 "metadata": {
  "kernelspec": {
   "display_name": "Python 3.9.6 64-bit",
   "language": "python",
   "name": "python3"
  },
  "language_info": {
   "codemirror_mode": {
    "name": "ipython",
    "version": 3
   },
   "file_extension": ".py",
   "mimetype": "text/x-python",
   "name": "python",
   "nbconvert_exporter": "python",
   "pygments_lexer": "ipython3",
   "version": "3.9.6"
  },
  "orig_nbformat": 4,
  "vscode": {
   "interpreter": {
    "hash": "9ed01bf3e969b83a52ea704bdfcdb9489080434f4a73e48ff34431a518d0aca8"
   }
  }
 },
 "nbformat": 4,
 "nbformat_minor": 2
}
