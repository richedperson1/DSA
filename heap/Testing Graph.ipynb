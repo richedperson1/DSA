{
 "cells": [
  {
   "cell_type": "code",
   "execution_count": 1,
   "metadata": {},
   "outputs": [],
   "source": [
    "from heapClass import *"
   ]
  },
  {
   "cell_type": "code",
   "execution_count": 3,
   "metadata": {},
   "outputs": [],
   "source": [
    "# h = heap()\n",
    "\n",
    "# h.insert(50)\n",
    "# h.insert(55)\n",
    "# h.insert(53)\n",
    "# h.insert(52)\n",
    "# h.insert(96)\n",
    "# h.insert(72)\n",
    "# h.insert(60)\n",
    "# h.printingHeap()"
   ]
  },
  {
   "cell_type": "code",
   "execution_count": 4,
   "metadata": {},
   "outputs": [
    {
     "name": "stdout",
     "output_type": "stream",
     "text": [
      "69 68 "
     ]
    }
   ],
   "source": [
    "h = heap()\n",
    "\n",
    "h.insert(70)\n",
    "h.insert(69)\n",
    "h.insert(68)\n",
    "h.delete()\n",
    "h.printingHeap()"
   ]
  },
  {
   "cell_type": "code",
   "execution_count": 7,
   "metadata": {},
   "outputs": [
    {
     "data": {
      "text/plain": [
       "'Deletion of operation not possible'"
      ]
     },
     "execution_count": 7,
     "metadata": {},
     "output_type": "execute_result"
    }
   ],
   "source": [
    "h.delete()\n",
    "h.delete()\n",
    "h.delete()\n",
    "h.delete()\n",
    "h.delete()"
   ]
  },
  {
   "cell_type": "code",
   "execution_count": 11,
   "metadata": {},
   "outputs": [
    {
     "data": {
      "text/plain": [
       "[0, 96, 55, 72, 50, 52, 53, 60]"
      ]
     },
     "execution_count": 11,
     "metadata": {},
     "output_type": "execute_result"
    }
   ],
   "source": [
    "def swapIndex(arr,a,b):\n",
    "    arr[a],arr[b] = arr[b],arr[a]\n",
    "    return arr\n",
    "\n",
    "def delte(arr,index):\n",
    "    if index>len(arr):\n",
    "        return arr\n",
    "\n",
    "    leftInd = 2*index\n",
    "    rgtInd = 2*index+1\n",
    "    if rgtInd < len(arr)-1 and arr[index]<arr[rgtInd]:\n",
    "        arr = swapIndex(arr,index,rgtInd)\n",
    "        arr = delte(arr,rgtInd)\n",
    "        \n",
    "    elif leftInd < len(arr)-1 and arr[index]<arr[leftInd]:\n",
    "        arr = swapIndex(arr,index,leftInd)\n",
    "        arr = delte(arr,leftInd)\n",
    "    return arr\n",
    "\n",
    "delte(arr,1)"
   ]
  },
  {
   "cell_type": "markdown",
   "metadata": {},
   "source": [
    "## Convert arr into heap"
   ]
  },
  {
   "cell_type": "code",
   "execution_count": 21,
   "metadata": {},
   "outputs": [],
   "source": [
    "arr = [0,60,80,30,81,82]\n",
    "\n",
    "limit = len(arr)//2 -1\n",
    "\n",
    "def hepify(arr,index,size):\n",
    "    largest = index\n",
    "    leftSide = index*2\n",
    "    rgtSide = index*2+1\n",
    "\n",
    "    if leftSide<size and arr[largest]<arr[leftSide]:\n",
    "        largest = leftSide\n",
    "    if rgtSide < size and arr[largest]<arr[rgtSide]:\n",
    "        largest = rgtSide\n",
    "    \n",
    "    if largest !=index:\n",
    "        arr[largest],arr[index] = arr[index],arr[largest]\n",
    "        hepify(arr,largest,size)\n",
    "    \n",
    "    return arr\n",
    "\n",
    "for j in range(limit,0,-1):\n",
    "    hepify(arr,j,len(arr))"
   ]
  },
  {
   "cell_type": "code",
   "execution_count": 22,
   "metadata": {},
   "outputs": [
    {
     "name": "stdout",
     "output_type": "stream",
     "text": [
      "2\n"
     ]
    },
    {
     "data": {
      "text/plain": [
       "([0, 82, 81, 30, 60, 80], None)"
      ]
     },
     "execution_count": 22,
     "metadata": {},
     "output_type": "execute_result"
    }
   ],
   "source": [
    "arr,print(limit)"
   ]
  },
  {
   "cell_type": "code",
   "execution_count": 20,
   "metadata": {},
   "outputs": [
    {
     "data": {
      "text/plain": [
       "[0, 81, 80, 30, 60, 82]"
      ]
     },
     "execution_count": 20,
     "metadata": {},
     "output_type": "execute_result"
    }
   ],
   "source": [
    "arr"
   ]
  },
  {
   "cell_type": "code",
   "execution_count": null,
   "metadata": {},
   "outputs": [],
   "source": []
  },
  {
   "cell_type": "markdown",
   "metadata": {},
   "source": [
    "## Min-Heap convertion"
   ]
  },
  {
   "cell_type": "code",
   "execution_count": 26,
   "metadata": {},
   "outputs": [],
   "source": [
    "def minHeap(arr,index,size):\n",
    "    smallest = index\n",
    "    leftSide = index*2\n",
    "    rightSide = index*2+1\n",
    "    \n",
    "    if leftSide<size and arr[leftSide] < arr[smallest]:\n",
    "        smallest = leftSide\n",
    "    if rightSide <size and  arr[rightSide] < arr[smallest]:\n",
    "        smallest = rightSide\n",
    "    if smallest!=index:\n",
    "        arr[smallest],arr[index] = arr[index],arr[smallest]\n",
    "        minHeap(arr,smallest,size)\n",
    "\n",
    "\n",
    "for j in range(limit,0,-1):\n",
    "    minHeap(arr,j,len(arr))"
   ]
  },
  {
   "cell_type": "code",
   "execution_count": 27,
   "metadata": {},
   "outputs": [
    {
     "data": {
      "text/plain": [
       "[0, 30, 60, 82, 81, 80]"
      ]
     },
     "execution_count": 27,
     "metadata": {},
     "output_type": "execute_result"
    }
   ],
   "source": [
    "arr"
   ]
  }
 ],
 "metadata": {
  "kernelspec": {
   "display_name": "Python 3.9.6 64-bit",
   "language": "python",
   "name": "python3"
  },
  "language_info": {
   "codemirror_mode": {
    "name": "ipython",
    "version": 3
   },
   "file_extension": ".py",
   "mimetype": "text/x-python",
   "name": "python",
   "nbconvert_exporter": "python",
   "pygments_lexer": "ipython3",
   "version": "3.9.6"
  },
  "orig_nbformat": 4,
  "vscode": {
   "interpreter": {
    "hash": "9ed01bf3e969b83a52ea704bdfcdb9489080434f4a73e48ff34431a518d0aca8"
   }
  }
 },
 "nbformat": 4,
 "nbformat_minor": 2
}
