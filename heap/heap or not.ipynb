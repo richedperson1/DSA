{
 "cells": [
  {
   "cell_type": "code",
   "execution_count": 5,
   "metadata": {},
   "outputs": [
    {
     "name": "stdout",
     "output_type": "stream",
     "text": [
      "5 :  L :  3  R  2\n",
      "3 : \n",
      "2 : \n"
     ]
    }
   ],
   "source": [
    "from binary_tree import *\n",
    "arr = [5 ,3 ,2]\n",
    "tree = createTree()\n",
    "nodes = tree.createTreeUsingList(arr)\n",
    "root.print_tree(nodes)"
   ]
  },
  {
   "cell_type": "code",
   "execution_count": 6,
   "metadata": {},
   "outputs": [
    {
     "name": "stdout",
     "output_type": "stream",
     "text": [
      "False\n"
     ]
    }
   ],
   "source": [
    "from binary_tree import *\n",
    "\n",
    "\n",
    "def isHeap(root):\n",
    "    if root == None:\n",
    "        return True\n",
    "\n",
    "    left = isHeap(root.left)\n",
    "    right = isHeap(root.right)\n",
    "\n",
    "    rootData = root.data\n",
    "\n",
    "    if left == False or right == False:\n",
    "        return False\n",
    "    elif root.left and root.right and (rootData > root.left and rootData > root.right):\n",
    "        return True\n",
    "    elif root.left and not(root.right) and rootData > root.left.data:\n",
    "        return True\n",
    "    elif root.right and not(root.left) and rootData > root.right.data:\n",
    "        return True\n",
    "    else:\n",
    "        return False\n",
    "\n",
    "\n",
    "print(isHeap(nodes))"
   ]
  },
  {
   "cell_type": "code",
   "execution_count": 4,
   "metadata": {},
   "outputs": [
    {
     "data": {
      "text/plain": [
       "<binary_tree.root at 0x1b720f584c0>"
      ]
     },
     "execution_count": 4,
     "metadata": {},
     "output_type": "execute_result"
    }
   ],
   "source": [
    "tree = createTree()\n",
    "tree.createTreeUsingList(arr)"
   ]
  }
 ],
 "metadata": {
  "kernelspec": {
   "display_name": "Python 3.9.6 64-bit",
   "language": "python",
   "name": "python3"
  },
  "language_info": {
   "codemirror_mode": {
    "name": "ipython",
    "version": 3
   },
   "file_extension": ".py",
   "mimetype": "text/x-python",
   "name": "python",
   "nbconvert_exporter": "python",
   "pygments_lexer": "ipython3",
   "version": "3.9.6"
  },
  "orig_nbformat": 4,
  "vscode": {
   "interpreter": {
    "hash": "9ed01bf3e969b83a52ea704bdfcdb9489080434f4a73e48ff34431a518d0aca8"
   }
  }
 },
 "nbformat": 4,
 "nbformat_minor": 2
}
