{
 "cells": [
  {
   "cell_type": "code",
   "execution_count": 5,
   "metadata": {},
   "outputs": [
    {
     "data": {
      "text/plain": [
       "[61]"
      ]
     },
     "execution_count": 5,
     "metadata": {},
     "output_type": "execute_result"
    }
   ],
   "source": [
    "\n",
    "\n",
    "def scopes():\n",
    "    ans2 = []\n",
    "    def scoping():\n",
    "        ans2.append(61)\n",
    "\n",
    "    scoping()\n",
    "    return ans2\n",
    "\n",
    "\n",
    "scopes()"
   ]
  },
  {
   "cell_type": "code",
   "execution_count": null,
   "metadata": {},
   "outputs": [],
   "source": [
    "import os\n",
    "\n",
    "def create_file_with_location(file_location):\n",
    "    try:\n",
    "        folder_path, file_name = os.path.split(file_location)\n",
    "        \n",
    "        if not os.path.exists(folder_path):\n",
    "            os.makedirs(folder_path)\n",
    "        \n",
    "        with open(file_location, 'w') as file:\n",
    "            file.write(\"abc\")\n",
    "            pass  # Create an empty file\n",
    "        \n",
    "        print(f\"File '{file_name}' created at location '{file_location}'.\")\n",
    "    \n",
    "    except Exception as e:\n",
    "        print(f\"An error occurred: {e}\")\n",
    "\n",
    "file_location = \"datafolder/abc.txt\"\n",
    "create_file_with_location(file_location)\n"
   ]
  }
 ],
 "metadata": {
  "kernelspec": {
   "display_name": "Python 3",
   "language": "python",
   "name": "python3"
  },
  "language_info": {
   "codemirror_mode": {
    "name": "ipython",
    "version": 3
   },
   "file_extension": ".py",
   "mimetype": "text/x-python",
   "name": "python",
   "nbconvert_exporter": "python",
   "pygments_lexer": "ipython3",
   "version": "3.9.6"
  },
  "orig_nbformat": 4
 },
 "nbformat": 4,
 "nbformat_minor": 2
}
