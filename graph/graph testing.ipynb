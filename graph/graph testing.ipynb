{
 "cells": [
  {
   "cell_type": "code",
   "execution_count": 1,
   "metadata": {},
   "outputs": [],
   "source": [
    "from createGraph import *"
   ]
  },
  {
   "cell_type": "code",
   "execution_count": 2,
   "metadata": {},
   "outputs": [
    {
     "name": "stdout",
     "output_type": "stream",
     "text": [
      "[0, 0, 0, 0, 0]\n",
      "[0, 0, 1, 0, 0]\n",
      "[0, 1, 0, 1, 0]\n",
      "[0, 0, 1, 0, 0]\n",
      "[0, 0, 0, 0, 0]\n"
     ]
    }
   ],
   "source": [
    "first = Graph(5)\n",
    "\n",
    "first.addEdge(1,2)\n",
    "first.addEdge(2,3)\n",
    "first.showVertice()"
   ]
  },
  {
   "cell_type": "code",
   "execution_count": 2,
   "metadata": {},
   "outputs": [
    {
     "name": "stdout",
     "output_type": "stream",
     "text": [
      "1 : [ 2 ]\n",
      "4 : [ 2 ]\n",
      "0 : [ 2 ]\n",
      "3 : [ 1 , 0 ]\n",
      "2 : [ 3 , 1 ]\n"
     ]
    }
   ],
   "source": [
    "class graphCheck:\n",
    "    dist = {}\n",
    "    def addingEdge(self,v1,v2,directed=False):\n",
    "        if self.dist.get(v1,0)!=0:\n",
    "            self.dist[v1].append(v2)\n",
    "        else:\n",
    "            self.dist[v1] = [v2]\n",
    "\n",
    "        if directed:\n",
    "            if self.dist.get(v2,0) !=0:\n",
    "                self.dist[v2].append(v1)\n",
    "            else:\n",
    "                self.dist[v2] = [v1]\n",
    "\n",
    "    def printingGraph(self):\n",
    "        for num in  self.dist:\n",
    "            print(f\"{num} : [\",end=\" \")\n",
    "            n = len(self.dist[num])\n",
    "            for ind,word in enumerate(self.dist[num]):\n",
    "                if ind+1<n:\n",
    "                    print(word,end=\" , \")\n",
    "                else:\n",
    "                    print(word,end=\" ]\")\n",
    "\n",
    "            # print(\"]\")\n",
    "            print()\n",
    "    \n",
    "\n",
    "firstGraph = graphCheck()\n",
    "firstGraph.addingEdge(1,2)\n",
    "firstGraph.addingEdge(4,2)\n",
    "firstGraph.addingEdge(0,2)\n",
    "firstGraph.addingEdge(3,1)\n",
    "firstGraph.addingEdge(2,3)\n",
    "firstGraph.addingEdge(2,1)\n",
    "firstGraph.addingEdge(3,0)\n",
    "firstGraph.printingGraph()"
   ]
  },
  {
   "cell_type": "code",
   "execution_count": 9,
   "metadata": {},
   "outputs": [
    {
     "name": "stdout",
     "output_type": "stream",
     "text": [
      "1 :  [  2  ]  0 :  [  2  ]  3 :  [  1  ]  [  0  ]  2 :  [  3  ]  "
     ]
    }
   ],
   "source": []
  }
 ],
 "metadata": {
  "kernelspec": {
   "display_name": "Python 3.9.6 64-bit",
   "language": "python",
   "name": "python3"
  },
  "language_info": {
   "codemirror_mode": {
    "name": "ipython",
    "version": 3
   },
   "file_extension": ".py",
   "mimetype": "text/x-python",
   "name": "python",
   "nbconvert_exporter": "python",
   "pygments_lexer": "ipython3",
   "version": "3.9.6 (tags/v3.9.6:db3ff76, Jun 28 2021, 15:26:21) [MSC v.1929 64 bit (AMD64)]"
  },
  "orig_nbformat": 4,
  "vscode": {
   "interpreter": {
    "hash": "9ed01bf3e969b83a52ea704bdfcdb9489080434f4a73e48ff34431a518d0aca8"
   }
  }
 },
 "nbformat": 4,
 "nbformat_minor": 2
}
