{
 "cells": [
  {
   "cell_type": "code",
   "execution_count": 1,
   "metadata": {},
   "outputs": [],
   "source": [
    "# Definition for a Node.\n",
    "from collections import *\n",
    "\n",
    "\n",
    "# Definition for a Node.\n",
    "class Node:\n",
    "    def __init__(self, val=0, neighbors=None):\n",
    "        self.val = val\n",
    "        self.neighbors = neighbors if neighbors is not None else []\n",
    "\n",
    "\n",
    "def cloneGraph(root: 'Node') -> 'Node':\n",
    "    allStack = defaultdict(list)\n",
    "    queue = deque([root])\n",
    "    visited = defaultdict(bool)\n",
    "\n",
    "    while queue:\n",
    "        ele = queue.popleft()\n",
    "        val = ele.val\n",
    "        visited[ele] = True\n",
    "        allStack[ele] = Node(val)\n",
    "\n",
    "        for child in ele.neighbors:\n",
    "            if visited[child] == False and child:\n",
    "                queue.append(child)\n",
    "\n",
    "    rootClone = allStack[root]\n",
    "    queue = deque([root])\n",
    "    visited = defaultdict(bool)\n",
    "    while queue:\n",
    "        root1 = queue.popleft()\n",
    "        root2 = allStack[root1]\n",
    "        visited[root1] = True\n",
    "        root2.childPresent = defaultdict(bool)\n",
    "        for child in root1.neighbors:\n",
    "            if visited[child] == False:\n",
    "                queue.append(child)\n",
    "            if root2.childPresent[child]==False:\n",
    "                root2.childPresent[child] = True\n",
    "                root2.neighbors.append(allStack[child])\n",
    "\n",
    "    return rootClone\n"
   ]
  },
  {
   "cell_type": "code",
   "execution_count": 14,
   "metadata": {},
   "outputs": [
    {
     "name": "stdout",
     "output_type": "stream",
     "text": [
      "{1: <__main__.Node object at 0x0000028E7FE67F70>}\n"
     ]
    }
   ],
   "source": [
    "adjList = [[2, 4], [1, 3], [2, 4], [1, 3]]\n",
    "adjList = [[]]\n",
    "num = len(adjList)\n",
    "dist = {}\n",
    "for ind in range(len(adjList)):\n",
    "    dist[ind+1] = Node(ind+1)\n",
    "\n",
    "\n",
    "\n",
    "for ind in range(num):\n",
    "    nodes = dist[ind+1]\n",
    "    for child in adjList[ind]:\n",
    "        nodes.neighbors.append(dist[child])"
   ]
  },
  {
   "cell_type": "code",
   "execution_count": 13,
   "metadata": {},
   "outputs": [
    {
     "data": {
      "text/plain": [
       "{1: <__main__.Node at 0x28e7f257c10>}"
      ]
     },
     "execution_count": 13,
     "metadata": {},
     "output_type": "execute_result"
    }
   ],
   "source": [
    "def dfs(visited, dist, ans, i):\n",
    "    queue = deque([i])\n",
    "    while queue:\n",
    "        rootNode = queue.popleft()\n",
    "        if visited.get(rootNode, False) == False:\n",
    "            ans.append(rootNode)\n",
    "        visited[rootNode] = True\n",
    "        # ans.append(rootNode)\n",
    "        for data in dist.get(rootNode, []):\n",
    "            if visited.get(data, 0) == 0:\n",
    "                queue.append(data)"
   ]
  }
 ],
 "metadata": {
  "kernelspec": {
   "display_name": "Python 3",
   "language": "python",
   "name": "python3"
  },
  "language_info": {
   "codemirror_mode": {
    "name": "ipython",
    "version": 3
   },
   "file_extension": ".py",
   "mimetype": "text/x-python",
   "name": "python",
   "nbconvert_exporter": "python",
   "pygments_lexer": "ipython3",
   "version": "3.9.6"
  },
  "orig_nbformat": 4
 },
 "nbformat": 4,
 "nbformat_minor": 2
}
